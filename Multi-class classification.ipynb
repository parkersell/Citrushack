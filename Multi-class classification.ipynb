{
 "cells": [
  {
   "cell_type": "code",
   "execution_count": 18,
   "metadata": {},
   "outputs": [],
   "source": [
    "import text2emotion as te\n",
    "import pandas as pd\n",
    "import numpy as np"
   ]
  },
  {
   "cell_type": "code",
   "execution_count": 12,
   "metadata": {},
   "outputs": [],
   "source": [
    "import time\n",
    "\n",
    "class TimerError(Exception):\n",
    "    \"\"\"A custom exception used to report errors in use of Timer class\"\"\"\n",
    "\n",
    "class Timer:\n",
    "    def __init__(self):\n",
    "        self._start_time = None\n",
    "\n",
    "    def start(self):\n",
    "        \"\"\"Start a new timer\"\"\"\n",
    "        if self._start_time is not None:\n",
    "            raise TimerError(f\"Timer is running. Use .stop() to stop it\")\n",
    "\n",
    "        self._start_time = time.perf_counter()\n",
    "\n",
    "    def stop(self):\n",
    "        \"\"\"Stop the timer, and report the elapsed time\"\"\"\n",
    "        if self._start_time is None:\n",
    "            raise TimerError(f\"Timer is not running. Use .start() to start it\")\n",
    "\n",
    "        elapsed_time = time.perf_counter() - self._start_time\n",
    "        self._start_time = None\n",
    "        print(f\"Elapsed time: {elapsed_time:0.4f} seconds\")"
   ]
  },
  {
   "cell_type": "code",
   "execution_count": null,
   "metadata": {},
   "outputs": [
    {
     "name": "stderr",
     "output_type": "stream",
     "text": [
      "c:\\users\\parke\\onedrive\\documents\\github\\citrusenv\\lib\\site-packages\\IPython\\core\\interactiveshell.py:3437: DtypeWarning: Columns (1,4,8,9) have mixed types.Specify dtype option on import or set low_memory=False.\n",
      "  exec(code_obj, self.user_global_ns, self.user_ns)\n"
     ]
    },
    {
     "name": "stdout",
     "output_type": "stream",
     "text": [
      "(1, 10)\n",
      "(1, 10)\n",
      "(1, 10)\n",
      "(2, 10)\n",
      "(1, 10)\n",
      "(3, 10)\n",
      "(1, 10)\n",
      "(4, 10)\n",
      "(1, 10)\n",
      "(5, 10)\n"
     ]
    }
   ],
   "source": [
    "def getConversations(s,e):\n",
    "    train = pd.read_csv(\"train.csv\")\n",
    "    train = train.iloc[:, :7].dropna()\n",
    "    selfeval = train['selfeval']\n",
    "    train[\"empathy\"] = selfeval.str.extract('\\d\\|\\d\\|\\d_(\\d)\\|\\d\\|\\d')\n",
    "    train = train.dropna()\n",
    "    conversations = train[\"conv_id\"].value_counts()\n",
    "    conversations = conversations[s:e]\n",
    "    lsconv = []\n",
    "    for ids in conversations.index:\n",
    "        convo = train.loc[train[\"conv_id\"] == ids]\n",
    "        convo = convo.drop(columns=[\"utterance_idx\", \"selfeval\", \"conv_id\"])\n",
    "        if len(convo[\"speaker_idx\"].unique()) !=2:\n",
    "            continue\n",
    "        s1id = convo[\"speaker_idx\"].unique()[0]\n",
    "        s2id = convo[\"speaker_idx\"].unique()[1]\n",
    "        s1 = convo.loc[convo[\"speaker_idx\"] == s1id]\n",
    "        s2 = convo.loc[convo[\"speaker_idx\"] == s2id]\n",
    "        s1words = [s.replace(\"_comma_\", \",\") for s in s1[\"utterance\"].values.tolist()]\n",
    "        s2words = [s.replace(\"_comma_\", \",\") for s in s2[\"utterance\"].values.tolist()]\n",
    "        context = convo[\"context\"].str.extract('(\\w+)').values[0].item()\n",
    "        escore = int(convo[\"empathy\"].values[0])\n",
    "        prompt = [convo[\"prompt\"].unique()[0]]\n",
    "        lsconv.append([context, prompt + s1words, s2words, escore])\n",
    "    return lsconv\n",
    "\n",
    "def empathy(prompt, response):\n",
    "    # Gets just the emotion values for each statement.\n",
    "    promptEmotions = list(te.get_emotion(prompt).values())\n",
    "    responseEmotions = list(te.get_emotion(response).values())\n",
    "    # Calculates the distance between the emotion vectors.\n",
    "    return promptEmotions+ responseEmotions\n",
    "          \n",
    "def testing(s,e):\n",
    "    conversations = getConversations(s,e)\n",
    "    person1 = \" \".join(conversations[0][1])\n",
    "    person2 = \" \".join(conversations[0][2])\n",
    "    values = np.array(empathy(person1, person2))\n",
    "    values = np.reshape(values, (1,10))\n",
    "    for i in range(1, len( conversations)):\n",
    "        person1 = \" \".join(conversations[i][1])\n",
    "        person2 = \" \".join(conversations[i][2])\n",
    "        temp = np.array(empathy(person1, person2))\n",
    "        temp = np.reshape(temp, (1,10))\n",
    "        print(temp.shape)\n",
    "        print(values.shape)\n",
    "        values = np.append(values, temp, axis = 0)\n",
    "    return values\n",
    "t = Timer()\n",
    "t.start()\n",
    "v = testing(0, 10)\n",
    "t.stop()"
   ]
  },
  {
   "cell_type": "code",
   "execution_count": 25,
   "metadata": {},
   "outputs": [
    {
     "data": {
      "text/plain": [
       "(100,)"
      ]
     },
     "execution_count": 25,
     "metadata": {},
     "output_type": "execute_result"
    }
   ],
   "source": [
    "v.shape"
   ]
  },
  {
   "cell_type": "markdown",
   "metadata": {},
   "source": [
    "X is a 18,108 by 10 (where the 10 is the five emotion values for speaker1 and the five emotion values for speaker2)\n",
    "Y is a 18,108 by 1 (where this is just the empathy score that is in the dataset)\n"
   ]
  }
 ],
 "metadata": {
  "kernelspec": {
   "display_name": "Python 3",
   "language": "python",
   "name": "python3"
  },
  "language_info": {
   "codemirror_mode": {
    "name": "ipython",
    "version": 3
   },
   "file_extension": ".py",
   "mimetype": "text/x-python",
   "name": "python",
   "nbconvert_exporter": "python",
   "pygments_lexer": "ipython3",
   "version": "3.8.1"
  }
 },
 "nbformat": 4,
 "nbformat_minor": 2
}
