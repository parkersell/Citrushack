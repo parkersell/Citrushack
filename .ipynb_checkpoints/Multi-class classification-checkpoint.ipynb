{
 "cells": [
  {
   "cell_type": "code",
   "execution_count": 1,
   "metadata": {},
   "outputs": [
    {
     "name": "stderr",
     "output_type": "stream",
     "text": [
      "[nltk_data] Downloading package stopwords to\n",
      "[nltk_data]     C:\\Users\\parke\\AppData\\Roaming\\nltk_data...\n",
      "[nltk_data]   Package stopwords is already up-to-date!\n",
      "[nltk_data] Downloading package punkt to\n",
      "[nltk_data]     C:\\Users\\parke\\AppData\\Roaming\\nltk_data...\n",
      "[nltk_data]   Package punkt is already up-to-date!\n",
      "[nltk_data] Downloading package wordnet to\n",
      "[nltk_data]     C:\\Users\\parke\\AppData\\Roaming\\nltk_data...\n",
      "[nltk_data]   Package wordnet is already up-to-date!\n"
     ]
    }
   ],
   "source": [
    "import text2emotion as te\n",
    "import pandas as pd"
   ]
  },
  {
   "cell_type": "code",
   "execution_count": 12,
   "metadata": {},
   "outputs": [],
   "source": [
    "import time\n",
    "\n",
    "class TimerError(Exception):\n",
    "    \"\"\"A custom exception used to report errors in use of Timer class\"\"\"\n",
    "\n",
    "class Timer:\n",
    "    def __init__(self):\n",
    "        self._start_time = None\n",
    "\n",
    "    def start(self):\n",
    "        \"\"\"Start a new timer\"\"\"\n",
    "        if self._start_time is not None:\n",
    "            raise TimerError(f\"Timer is running. Use .stop() to stop it\")\n",
    "\n",
    "        self._start_time = time.perf_counter()\n",
    "\n",
    "    def stop(self):\n",
    "        \"\"\"Stop the timer, and report the elapsed time\"\"\"\n",
    "        if self._start_time is None:\n",
    "            raise TimerError(f\"Timer is not running. Use .start() to start it\")\n",
    "\n",
    "        elapsed_time = time.perf_counter() - self._start_time\n",
    "        self._start_time = None\n",
    "        print(f\"Elapsed time: {elapsed_time:0.4f} seconds\")"
   ]
  },
  {
   "cell_type": "code",
   "execution_count": 14,
   "metadata": {},
   "outputs": [
    {
     "name": "stderr",
     "output_type": "stream",
     "text": [
      "c:\\users\\parke\\onedrive\\documents\\github\\citrusenv\\lib\\site-packages\\IPython\\core\\interactiveshell.py:3437: DtypeWarning: Columns (1,4,8,9) have mixed types.Specify dtype option on import or set low_memory=False.\n",
      "  exec(code_obj, self.user_global_ns, self.user_ns)\n"
     ]
    },
    {
     "ename": "IndexError",
     "evalue": "index 1 is out of bounds for axis 0 with size 1",
     "output_type": "error",
     "traceback": [
      "\u001b[1;31m---------------------------------------------------------------------------\u001b[0m",
      "\u001b[1;31mIndexError\u001b[0m                                Traceback (most recent call last)",
      "\u001b[1;32m<ipython-input-14-4f7ba61303eb>\u001b[0m in \u001b[0;36m<module>\u001b[1;34m\u001b[0m\n\u001b[0;32m     40\u001b[0m \u001b[0mt\u001b[0m \u001b[1;33m=\u001b[0m \u001b[0mTimer\u001b[0m\u001b[1;33m(\u001b[0m\u001b[1;33m)\u001b[0m\u001b[1;33m\u001b[0m\u001b[1;33m\u001b[0m\u001b[0m\n\u001b[0;32m     41\u001b[0m \u001b[0mt\u001b[0m\u001b[1;33m.\u001b[0m\u001b[0mstart\u001b[0m\u001b[1;33m(\u001b[0m\u001b[1;33m)\u001b[0m\u001b[1;33m\u001b[0m\u001b[1;33m\u001b[0m\u001b[0m\n\u001b[1;32m---> 42\u001b[1;33m \u001b[0mtesting\u001b[0m\u001b[1;33m(\u001b[0m\u001b[1;36m300\u001b[0m\u001b[1;33m)\u001b[0m\u001b[1;33m\u001b[0m\u001b[1;33m\u001b[0m\u001b[0m\n\u001b[0m\u001b[0;32m     43\u001b[0m \u001b[0mt\u001b[0m\u001b[1;33m.\u001b[0m\u001b[0mstop\u001b[0m\u001b[1;33m(\u001b[0m\u001b[1;33m)\u001b[0m\u001b[1;33m\u001b[0m\u001b[1;33m\u001b[0m\u001b[0m\n",
      "\u001b[1;32m<ipython-input-14-4f7ba61303eb>\u001b[0m in \u001b[0;36mtesting\u001b[1;34m(n)\u001b[0m\n\u001b[0;32m     32\u001b[0m \u001b[1;33m\u001b[0m\u001b[0m\n\u001b[0;32m     33\u001b[0m \u001b[1;32mdef\u001b[0m \u001b[0mtesting\u001b[0m\u001b[1;33m(\u001b[0m\u001b[0mn\u001b[0m\u001b[1;33m)\u001b[0m\u001b[1;33m:\u001b[0m\u001b[1;33m\u001b[0m\u001b[1;33m\u001b[0m\u001b[0m\n\u001b[1;32m---> 34\u001b[1;33m     \u001b[0mconversations\u001b[0m \u001b[1;33m=\u001b[0m \u001b[0mgetConversations\u001b[0m\u001b[1;33m(\u001b[0m\u001b[0mn\u001b[0m\u001b[1;33m)\u001b[0m\u001b[1;33m\u001b[0m\u001b[1;33m\u001b[0m\u001b[0m\n\u001b[0m\u001b[0;32m     35\u001b[0m     \u001b[1;32mfor\u001b[0m \u001b[0mconversation\u001b[0m \u001b[1;32min\u001b[0m \u001b[0mconversations\u001b[0m\u001b[1;33m:\u001b[0m\u001b[1;33m\u001b[0m\u001b[1;33m\u001b[0m\u001b[0m\n\u001b[0;32m     36\u001b[0m         \u001b[0mperson1\u001b[0m \u001b[1;33m=\u001b[0m \u001b[1;34m\" \"\u001b[0m\u001b[1;33m.\u001b[0m\u001b[0mjoin\u001b[0m\u001b[1;33m(\u001b[0m\u001b[0mconversation\u001b[0m\u001b[1;33m[\u001b[0m\u001b[1;36m1\u001b[0m\u001b[1;33m]\u001b[0m\u001b[1;33m)\u001b[0m\u001b[1;33m\u001b[0m\u001b[1;33m\u001b[0m\u001b[0m\n",
      "\u001b[1;32m<ipython-input-14-4f7ba61303eb>\u001b[0m in \u001b[0;36mgetConversations\u001b[1;34m(n)\u001b[0m\n\u001b[0;32m     13\u001b[0m         \u001b[0mconvo\u001b[0m \u001b[1;33m=\u001b[0m \u001b[0mconvo\u001b[0m\u001b[1;33m.\u001b[0m\u001b[0mdrop\u001b[0m\u001b[1;33m(\u001b[0m\u001b[0mcolumns\u001b[0m\u001b[1;33m=\u001b[0m\u001b[1;33m[\u001b[0m\u001b[1;34m\"utterance_idx\"\u001b[0m\u001b[1;33m,\u001b[0m \u001b[1;34m\"selfeval\"\u001b[0m\u001b[1;33m,\u001b[0m \u001b[1;34m\"conv_id\"\u001b[0m\u001b[1;33m]\u001b[0m\u001b[1;33m)\u001b[0m\u001b[1;33m\u001b[0m\u001b[1;33m\u001b[0m\u001b[0m\n\u001b[0;32m     14\u001b[0m         \u001b[0ms1id\u001b[0m \u001b[1;33m=\u001b[0m \u001b[0mconvo\u001b[0m\u001b[1;33m[\u001b[0m\u001b[1;34m\"speaker_idx\"\u001b[0m\u001b[1;33m]\u001b[0m\u001b[1;33m.\u001b[0m\u001b[0munique\u001b[0m\u001b[1;33m(\u001b[0m\u001b[1;33m)\u001b[0m\u001b[1;33m[\u001b[0m\u001b[1;36m0\u001b[0m\u001b[1;33m]\u001b[0m\u001b[1;33m\u001b[0m\u001b[1;33m\u001b[0m\u001b[0m\n\u001b[1;32m---> 15\u001b[1;33m         \u001b[0ms2id\u001b[0m \u001b[1;33m=\u001b[0m \u001b[0mconvo\u001b[0m\u001b[1;33m[\u001b[0m\u001b[1;34m\"speaker_idx\"\u001b[0m\u001b[1;33m]\u001b[0m\u001b[1;33m.\u001b[0m\u001b[0munique\u001b[0m\u001b[1;33m(\u001b[0m\u001b[1;33m)\u001b[0m\u001b[1;33m[\u001b[0m\u001b[1;36m1\u001b[0m\u001b[1;33m]\u001b[0m\u001b[1;33m\u001b[0m\u001b[1;33m\u001b[0m\u001b[0m\n\u001b[0m\u001b[0;32m     16\u001b[0m         \u001b[0ms1\u001b[0m \u001b[1;33m=\u001b[0m \u001b[0mconvo\u001b[0m\u001b[1;33m.\u001b[0m\u001b[0mloc\u001b[0m\u001b[1;33m[\u001b[0m\u001b[0mconvo\u001b[0m\u001b[1;33m[\u001b[0m\u001b[1;34m\"speaker_idx\"\u001b[0m\u001b[1;33m]\u001b[0m \u001b[1;33m==\u001b[0m \u001b[0ms1id\u001b[0m\u001b[1;33m]\u001b[0m\u001b[1;33m\u001b[0m\u001b[1;33m\u001b[0m\u001b[0m\n\u001b[0;32m     17\u001b[0m         \u001b[0ms2\u001b[0m \u001b[1;33m=\u001b[0m \u001b[0mconvo\u001b[0m\u001b[1;33m.\u001b[0m\u001b[0mloc\u001b[0m\u001b[1;33m[\u001b[0m\u001b[0mconvo\u001b[0m\u001b[1;33m[\u001b[0m\u001b[1;34m\"speaker_idx\"\u001b[0m\u001b[1;33m]\u001b[0m \u001b[1;33m==\u001b[0m \u001b[0ms2id\u001b[0m\u001b[1;33m]\u001b[0m\u001b[1;33m\u001b[0m\u001b[1;33m\u001b[0m\u001b[0m\n",
      "\u001b[1;31mIndexError\u001b[0m: index 1 is out of bounds for axis 0 with size 1"
     ]
    }
   ],
   "source": [
    "def getConversations(n):\n",
    "    train = pd.read_csv(\"train.csv\")\n",
    "    train = train.iloc[:, :7].dropna()\n",
    "    selfeval = train['selfeval']\n",
    "    train[\"empathy\"] = selfeval.str.extract('\\d\\|\\d\\|\\d_(\\d)\\|\\d\\|\\d')\n",
    "    train = train.dropna()\n",
    "    conversations = train[\"conv_id\"].value_counts()\n",
    "    frac =n/len(conversations)\n",
    "    conversations = conversations.sample(frac=frac)\n",
    "    lsconv = []\n",
    "    for ids in conversations.index:\n",
    "        convo = train.loc[train[\"conv_id\"] == ids]\n",
    "        convo = convo.drop(columns=[\"utterance_idx\", \"selfeval\", \"conv_id\"])\n",
    "        if len(convo[\"speaker_idx\"].unique()) !=2:\n",
    "            continue\n",
    "        s1id = convo[\"speaker_idx\"].unique()[0]\n",
    "        s2id = convo[\"speaker_idx\"].unique()[1]\n",
    "        s1 = convo.loc[convo[\"speaker_idx\"] == s1id]\n",
    "        s2 = convo.loc[convo[\"speaker_idx\"] == s2id]\n",
    "        s1words = [s.replace(\"_comma_\", \",\") for s in s1[\"utterance\"].values.tolist()]\n",
    "        s2words = [s.replace(\"_comma_\", \",\") for s in s2[\"utterance\"].values.tolist()]\n",
    "        context = convo[\"context\"].str.extract('(\\w+)').values[0].item()\n",
    "        escore = int(convo[\"empathy\"].values[0])\n",
    "        prompt = [convo[\"prompt\"].unique()[0]]\n",
    "        lsconv.append([context, prompt + s1words, s2words, escore])\n",
    "    return lsconv\n",
    "\n",
    "def empathy(prompt, response):\n",
    "    # Gets just the emotion values for each statement.\n",
    "    promptEmotions = list(te.get_emotion(prompt).values())\n",
    "    responseEmotions = list(te.get_emotion(response).values())\n",
    "    # Calculates the distance between the emotion vectors.\n",
    "    return promptEmotions+ responseEmotions\n",
    "          \n",
    "def testing(n):\n",
    "    conversations = getConversations(n)\n",
    "    for conversation in conversations:\n",
    "        person1 = \" \".join(conversation[1])\n",
    "        person2 = \" \".join(conversation[2])\n",
    "        values = empathy(person1, person2)\n",
    "    print(values)\n",
    "t = Timer()\n",
    "t.start()\n",
    "testing(300)\n",
    "t.stop()"
   ]
  },
  {
   "cell_type": "markdown",
   "metadata": {},
   "source": [
    "X is a 18,108 by 10 (where the 10 is the five emotion values for speaker1 and the five emotion values for speaker2)\n",
    "Y is a 18,108 by 1 (where this is just the empathy score that is in the dataset)\n"
   ]
  }
 ],
 "metadata": {
  "kernelspec": {
   "display_name": "Python 3",
   "language": "python",
   "name": "python3"
  },
  "language_info": {
   "codemirror_mode": {
    "name": "ipython",
    "version": 3
   },
   "file_extension": ".py",
   "mimetype": "text/x-python",
   "name": "python",
   "nbconvert_exporter": "python",
   "pygments_lexer": "ipython3",
   "version": "3.8.1"
  }
 },
 "nbformat": 4,
 "nbformat_minor": 2
}
