{
 "cells": [
  {
   "cell_type": "code",
   "execution_count": 31,
   "id": "6d5d0b44",
   "metadata": {},
   "outputs": [],
   "source": [
    "import pandas as pd\n",
    "import numpy as np\n",
    "import pickle\n",
    "from keras.preprocessing.text import Tokenizer\n",
    "from keras.models import Sequential, Model\n",
    "from keras.layers import Activation, Dense, Dropout\n",
    "from sklearn.preprocessing import LabelBinarizer\n",
    "import sklearn.datasets as skds\n",
    "from pathlib import Path\n",
    "import matplotlib.pyplot as plt\n",
    "import itertools\n",
    "from sklearn.metrics import confusion_matrix\n",
    "import matplotlib.pyplot as plt\n",
    "import seaborn as sn\n",
    "#Following https://towardsdatascience.com/machine-learning-multiclass-classification-with-imbalanced-data-set-29f6a177c1a \n",
    "np.random.seed(1237)"
   ]
  },
  {
   "cell_type": "code",
   "execution_count": 3,
   "id": "6c1b725b",
   "metadata": {},
   "outputs": [],
   "source": [
    "labels = np.load(\"labels.npy\")\n",
    "data = np.load(\"data.npy\")"
   ]
  },
  {
   "cell_type": "code",
   "execution_count": 63,
   "id": "79838244",
   "metadata": {},
   "outputs": [
    {
     "name": "stdout",
     "output_type": "stream",
     "text": [
      "14527\n"
     ]
    }
   ],
   "source": [
    "# 5 groups\n",
    "num_labels = 5\n",
    "vocab_size = 10\n",
    "batch_size = 100\n",
    "num_epochs = 5\n",
    "\n",
    "# lets take 80% data as training and remaining 20% for test.\n",
    "train_size = int(len(labels) * .8)\n",
    "print(train_size)\n",
    "x_train = data[:train_size]\n",
    "x_test = data[train_size:]\n",
    "\n",
    "encoder = LabelBinarizer()\n",
    "encoder.fit(labels[:train_size])\n",
    "y_train_labels = labels[:train_size]\n",
    "y_test_labels = labels[train_size:]\n",
    "y_train = encoder.transform(y_train_labels)\n",
    "y_test = encoder.transform(y_test_labels)"
   ]
  },
  {
   "cell_type": "code",
   "execution_count": 26,
   "id": "ef8bd440",
   "metadata": {},
   "outputs": [
    {
     "name": "stdout",
     "output_type": "stream",
     "text": [
      "Model: \"sequential_2\"\n",
      "_________________________________________________________________\n",
      "Layer (type)                 Output Shape              Param #   \n",
      "=================================================================\n",
      "dense_6 (Dense)              (None, 512)               5632      \n",
      "_________________________________________________________________\n",
      "activation_6 (Activation)    (None, 512)               0         \n",
      "_________________________________________________________________\n",
      "dropout_4 (Dropout)          (None, 512)               0         \n",
      "_________________________________________________________________\n",
      "dense_7 (Dense)              (None, 512)               262656    \n",
      "_________________________________________________________________\n",
      "activation_7 (Activation)    (None, 512)               0         \n",
      "_________________________________________________________________\n",
      "dropout_5 (Dropout)          (None, 512)               0         \n",
      "_________________________________________________________________\n",
      "dense_8 (Dense)              (None, 5)                 2565      \n",
      "_________________________________________________________________\n",
      "activation_8 (Activation)    (None, 5)                 0         \n",
      "=================================================================\n",
      "Total params: 270,853\n",
      "Trainable params: 270,853\n",
      "Non-trainable params: 0\n",
      "_________________________________________________________________\n"
     ]
    }
   ],
   "source": [
    "#let us build a basic model\n",
    "model = Sequential()\n",
    "model.add(Dense(512, input_shape=(vocab_size,)))\n",
    "model.add(Activation('relu'))\n",
    "model.add(Dropout(0.3))\n",
    "model.add(Dense(512))\n",
    "model.add(Activation('relu'))\n",
    "model.add(Dropout(0.3))\n",
    "model.add(Dense(num_labels))\n",
    "model.add(Activation('softmax'))\n",
    "model.summary()\n",
    "\n",
    "model.compile(loss='categorical_crossentropy',\n",
    "              optimizer='adam',\n",
    "              metrics=['accuracy'])"
   ]
  },
  {
   "cell_type": "code",
   "execution_count": 70,
   "id": "b391e947",
   "metadata": {},
   "outputs": [
    {
     "name": "stdout",
     "output_type": "stream",
     "text": [
      "Build model...\n"
     ]
    },
    {
     "ename": "NotImplementedError",
     "evalue": "Cannot convert a symbolic Tensor (gru/strided_slice:0) to a numpy array. This error may indicate that you're trying to pass a Tensor to a NumPy call, which is not supported",
     "output_type": "error",
     "traceback": [
      "\u001b[1;31m---------------------------------------------------------------------------\u001b[0m",
      "\u001b[1;31mNotImplementedError\u001b[0m                       Traceback (most recent call last)",
      "\u001b[1;32m<ipython-input-70-ff3ad9721cc4>\u001b[0m in \u001b[0;36m<module>\u001b[1;34m\u001b[0m\n\u001b[0;32m     10\u001b[0m \u001b[0mmodel\u001b[0m \u001b[1;33m=\u001b[0m \u001b[0mSequential\u001b[0m\u001b[1;33m(\u001b[0m\u001b[1;33m)\u001b[0m\u001b[1;33m\u001b[0m\u001b[1;33m\u001b[0m\u001b[0m\n\u001b[0;32m     11\u001b[0m \u001b[0mmodel\u001b[0m\u001b[1;33m.\u001b[0m\u001b[0madd\u001b[0m\u001b[1;33m(\u001b[0m\u001b[0mEmbedding\u001b[0m\u001b[1;33m(\u001b[0m\u001b[0mvocab_size\u001b[0m\u001b[1;33m,\u001b[0m \u001b[0mEMBEDDING_DIM\u001b[0m\u001b[1;33m,\u001b[0m \u001b[0minput_length\u001b[0m\u001b[1;33m=\u001b[0m\u001b[1;36m10\u001b[0m\u001b[1;33m)\u001b[0m\u001b[1;33m)\u001b[0m\u001b[1;33m\u001b[0m\u001b[1;33m\u001b[0m\u001b[0m\n\u001b[1;32m---> 12\u001b[1;33m \u001b[0mmodel\u001b[0m\u001b[1;33m.\u001b[0m\u001b[0madd\u001b[0m\u001b[1;33m(\u001b[0m\u001b[0mGRU\u001b[0m\u001b[1;33m(\u001b[0m\u001b[0munits\u001b[0m\u001b[1;33m=\u001b[0m\u001b[1;36m32\u001b[0m\u001b[1;33m,\u001b[0m  \u001b[0mdropout\u001b[0m\u001b[1;33m=\u001b[0m\u001b[1;36m0.2\u001b[0m\u001b[1;33m,\u001b[0m \u001b[0mrecurrent_dropout\u001b[0m\u001b[1;33m=\u001b[0m\u001b[1;36m0.2\u001b[0m\u001b[1;33m)\u001b[0m\u001b[1;33m)\u001b[0m\u001b[1;33m\u001b[0m\u001b[1;33m\u001b[0m\u001b[0m\n\u001b[0m\u001b[0;32m     13\u001b[0m \u001b[0mmodel\u001b[0m\u001b[1;33m.\u001b[0m\u001b[0madd\u001b[0m\u001b[1;33m(\u001b[0m\u001b[0mDense\u001b[0m\u001b[1;33m(\u001b[0m\u001b[0mnum_labels\u001b[0m\u001b[1;33m,\u001b[0m \u001b[0mactivation\u001b[0m\u001b[1;33m=\u001b[0m\u001b[1;34m'softmax'\u001b[0m\u001b[1;33m)\u001b[0m\u001b[1;33m)\u001b[0m\u001b[1;33m\u001b[0m\u001b[1;33m\u001b[0m\u001b[0m\n\u001b[0;32m     14\u001b[0m \u001b[1;33m\u001b[0m\u001b[0m\n",
      "\u001b[1;32mc:\\users\\parke\\onedrive\\documents\\github\\citrusenv\\lib\\site-packages\\tensorflow\\python\\training\\tracking\\base.py\u001b[0m in \u001b[0;36m_method_wrapper\u001b[1;34m(self, *args, **kwargs)\u001b[0m\n\u001b[0;32m    515\u001b[0m     \u001b[0mself\u001b[0m\u001b[1;33m.\u001b[0m\u001b[0m_self_setattr_tracking\u001b[0m \u001b[1;33m=\u001b[0m \u001b[1;32mFalse\u001b[0m  \u001b[1;31m# pylint: disable=protected-access\u001b[0m\u001b[1;33m\u001b[0m\u001b[1;33m\u001b[0m\u001b[0m\n\u001b[0;32m    516\u001b[0m     \u001b[1;32mtry\u001b[0m\u001b[1;33m:\u001b[0m\u001b[1;33m\u001b[0m\u001b[1;33m\u001b[0m\u001b[0m\n\u001b[1;32m--> 517\u001b[1;33m       \u001b[0mresult\u001b[0m \u001b[1;33m=\u001b[0m \u001b[0mmethod\u001b[0m\u001b[1;33m(\u001b[0m\u001b[0mself\u001b[0m\u001b[1;33m,\u001b[0m \u001b[1;33m*\u001b[0m\u001b[0margs\u001b[0m\u001b[1;33m,\u001b[0m \u001b[1;33m**\u001b[0m\u001b[0mkwargs\u001b[0m\u001b[1;33m)\u001b[0m\u001b[1;33m\u001b[0m\u001b[1;33m\u001b[0m\u001b[0m\n\u001b[0m\u001b[0;32m    518\u001b[0m     \u001b[1;32mfinally\u001b[0m\u001b[1;33m:\u001b[0m\u001b[1;33m\u001b[0m\u001b[1;33m\u001b[0m\u001b[0m\n\u001b[0;32m    519\u001b[0m       \u001b[0mself\u001b[0m\u001b[1;33m.\u001b[0m\u001b[0m_self_setattr_tracking\u001b[0m \u001b[1;33m=\u001b[0m \u001b[0mprevious_value\u001b[0m  \u001b[1;31m# pylint: disable=protected-access\u001b[0m\u001b[1;33m\u001b[0m\u001b[1;33m\u001b[0m\u001b[0m\n",
      "\u001b[1;32mc:\\users\\parke\\onedrive\\documents\\github\\citrusenv\\lib\\site-packages\\tensorflow\\python\\keras\\engine\\sequential.py\u001b[0m in \u001b[0;36madd\u001b[1;34m(self, layer)\u001b[0m\n\u001b[0;32m    221\u001b[0m       \u001b[1;31m# If the model is being built continuously on top of an input layer:\u001b[0m\u001b[1;33m\u001b[0m\u001b[1;33m\u001b[0m\u001b[1;33m\u001b[0m\u001b[0m\n\u001b[0;32m    222\u001b[0m       \u001b[1;31m# refresh its output.\u001b[0m\u001b[1;33m\u001b[0m\u001b[1;33m\u001b[0m\u001b[1;33m\u001b[0m\u001b[0m\n\u001b[1;32m--> 223\u001b[1;33m       \u001b[0moutput_tensor\u001b[0m \u001b[1;33m=\u001b[0m \u001b[0mlayer\u001b[0m\u001b[1;33m(\u001b[0m\u001b[0mself\u001b[0m\u001b[1;33m.\u001b[0m\u001b[0moutputs\u001b[0m\u001b[1;33m[\u001b[0m\u001b[1;36m0\u001b[0m\u001b[1;33m]\u001b[0m\u001b[1;33m)\u001b[0m\u001b[1;33m\u001b[0m\u001b[1;33m\u001b[0m\u001b[0m\n\u001b[0m\u001b[0;32m    224\u001b[0m       \u001b[1;32mif\u001b[0m \u001b[0mlen\u001b[0m\u001b[1;33m(\u001b[0m\u001b[0mnest\u001b[0m\u001b[1;33m.\u001b[0m\u001b[0mflatten\u001b[0m\u001b[1;33m(\u001b[0m\u001b[0moutput_tensor\u001b[0m\u001b[1;33m)\u001b[0m\u001b[1;33m)\u001b[0m \u001b[1;33m!=\u001b[0m \u001b[1;36m1\u001b[0m\u001b[1;33m:\u001b[0m\u001b[1;33m\u001b[0m\u001b[1;33m\u001b[0m\u001b[0m\n\u001b[0;32m    225\u001b[0m         \u001b[1;32mraise\u001b[0m \u001b[0mValueError\u001b[0m\u001b[1;33m(\u001b[0m\u001b[0mSINGLE_LAYER_OUTPUT_ERROR_MSG\u001b[0m\u001b[1;33m)\u001b[0m\u001b[1;33m\u001b[0m\u001b[1;33m\u001b[0m\u001b[0m\n",
      "\u001b[1;32mc:\\users\\parke\\onedrive\\documents\\github\\citrusenv\\lib\\site-packages\\tensorflow\\python\\keras\\layers\\recurrent.py\u001b[0m in \u001b[0;36m__call__\u001b[1;34m(self, inputs, initial_state, constants, **kwargs)\u001b[0m\n\u001b[0;32m    658\u001b[0m \u001b[1;33m\u001b[0m\u001b[0m\n\u001b[0;32m    659\u001b[0m     \u001b[1;32mif\u001b[0m \u001b[0minitial_state\u001b[0m \u001b[1;32mis\u001b[0m \u001b[1;32mNone\u001b[0m \u001b[1;32mand\u001b[0m \u001b[0mconstants\u001b[0m \u001b[1;32mis\u001b[0m \u001b[1;32mNone\u001b[0m\u001b[1;33m:\u001b[0m\u001b[1;33m\u001b[0m\u001b[1;33m\u001b[0m\u001b[0m\n\u001b[1;32m--> 660\u001b[1;33m       \u001b[1;32mreturn\u001b[0m \u001b[0msuper\u001b[0m\u001b[1;33m(\u001b[0m\u001b[0mRNN\u001b[0m\u001b[1;33m,\u001b[0m \u001b[0mself\u001b[0m\u001b[1;33m)\u001b[0m\u001b[1;33m.\u001b[0m\u001b[0m__call__\u001b[0m\u001b[1;33m(\u001b[0m\u001b[0minputs\u001b[0m\u001b[1;33m,\u001b[0m \u001b[1;33m**\u001b[0m\u001b[0mkwargs\u001b[0m\u001b[1;33m)\u001b[0m\u001b[1;33m\u001b[0m\u001b[1;33m\u001b[0m\u001b[0m\n\u001b[0m\u001b[0;32m    661\u001b[0m \u001b[1;33m\u001b[0m\u001b[0m\n\u001b[0;32m    662\u001b[0m     \u001b[1;31m# If any of `initial_state` or `constants` are specified and are Keras\u001b[0m\u001b[1;33m\u001b[0m\u001b[1;33m\u001b[0m\u001b[1;33m\u001b[0m\u001b[0m\n",
      "\u001b[1;32mc:\\users\\parke\\onedrive\\documents\\github\\citrusenv\\lib\\site-packages\\tensorflow\\python\\keras\\engine\\base_layer.py\u001b[0m in \u001b[0;36m__call__\u001b[1;34m(self, *args, **kwargs)\u001b[0m\n\u001b[0;32m    949\u001b[0m     \u001b[1;31m# >> model = tf.keras.Model(inputs, outputs)\u001b[0m\u001b[1;33m\u001b[0m\u001b[1;33m\u001b[0m\u001b[1;33m\u001b[0m\u001b[0m\n\u001b[0;32m    950\u001b[0m     \u001b[1;32mif\u001b[0m \u001b[0m_in_functional_construction_mode\u001b[0m\u001b[1;33m(\u001b[0m\u001b[0mself\u001b[0m\u001b[1;33m,\u001b[0m \u001b[0minputs\u001b[0m\u001b[1;33m,\u001b[0m \u001b[0margs\u001b[0m\u001b[1;33m,\u001b[0m \u001b[0mkwargs\u001b[0m\u001b[1;33m,\u001b[0m \u001b[0minput_list\u001b[0m\u001b[1;33m)\u001b[0m\u001b[1;33m:\u001b[0m\u001b[1;33m\u001b[0m\u001b[1;33m\u001b[0m\u001b[0m\n\u001b[1;32m--> 951\u001b[1;33m       return self._functional_construction_call(inputs, args, kwargs,\n\u001b[0m\u001b[0;32m    952\u001b[0m                                                 input_list)\n\u001b[0;32m    953\u001b[0m \u001b[1;33m\u001b[0m\u001b[0m\n",
      "\u001b[1;32mc:\\users\\parke\\onedrive\\documents\\github\\citrusenv\\lib\\site-packages\\tensorflow\\python\\keras\\engine\\base_layer.py\u001b[0m in \u001b[0;36m_functional_construction_call\u001b[1;34m(self, inputs, args, kwargs, input_list)\u001b[0m\n\u001b[0;32m   1088\u001b[0m           layer=self, inputs=inputs, build_graph=True, training=training_value):\n\u001b[0;32m   1089\u001b[0m         \u001b[1;31m# Check input assumptions set after layer building, e.g. input shape.\u001b[0m\u001b[1;33m\u001b[0m\u001b[1;33m\u001b[0m\u001b[1;33m\u001b[0m\u001b[0m\n\u001b[1;32m-> 1090\u001b[1;33m         outputs = self._keras_tensor_symbolic_call(\n\u001b[0m\u001b[0;32m   1091\u001b[0m             inputs, input_masks, args, kwargs)\n\u001b[0;32m   1092\u001b[0m \u001b[1;33m\u001b[0m\u001b[0m\n",
      "\u001b[1;32mc:\\users\\parke\\onedrive\\documents\\github\\citrusenv\\lib\\site-packages\\tensorflow\\python\\keras\\engine\\base_layer.py\u001b[0m in \u001b[0;36m_keras_tensor_symbolic_call\u001b[1;34m(self, inputs, input_masks, args, kwargs)\u001b[0m\n\u001b[0;32m    820\u001b[0m       \u001b[1;32mreturn\u001b[0m \u001b[0mnest\u001b[0m\u001b[1;33m.\u001b[0m\u001b[0mmap_structure\u001b[0m\u001b[1;33m(\u001b[0m\u001b[0mkeras_tensor\u001b[0m\u001b[1;33m.\u001b[0m\u001b[0mKerasTensor\u001b[0m\u001b[1;33m,\u001b[0m \u001b[0moutput_signature\u001b[0m\u001b[1;33m)\u001b[0m\u001b[1;33m\u001b[0m\u001b[1;33m\u001b[0m\u001b[0m\n\u001b[0;32m    821\u001b[0m     \u001b[1;32melse\u001b[0m\u001b[1;33m:\u001b[0m\u001b[1;33m\u001b[0m\u001b[1;33m\u001b[0m\u001b[0m\n\u001b[1;32m--> 822\u001b[1;33m       \u001b[1;32mreturn\u001b[0m \u001b[0mself\u001b[0m\u001b[1;33m.\u001b[0m\u001b[0m_infer_output_signature\u001b[0m\u001b[1;33m(\u001b[0m\u001b[0minputs\u001b[0m\u001b[1;33m,\u001b[0m \u001b[0margs\u001b[0m\u001b[1;33m,\u001b[0m \u001b[0mkwargs\u001b[0m\u001b[1;33m,\u001b[0m \u001b[0minput_masks\u001b[0m\u001b[1;33m)\u001b[0m\u001b[1;33m\u001b[0m\u001b[1;33m\u001b[0m\u001b[0m\n\u001b[0m\u001b[0;32m    823\u001b[0m \u001b[1;33m\u001b[0m\u001b[0m\n\u001b[0;32m    824\u001b[0m   \u001b[1;32mdef\u001b[0m \u001b[0m_infer_output_signature\u001b[0m\u001b[1;33m(\u001b[0m\u001b[0mself\u001b[0m\u001b[1;33m,\u001b[0m \u001b[0minputs\u001b[0m\u001b[1;33m,\u001b[0m \u001b[0margs\u001b[0m\u001b[1;33m,\u001b[0m \u001b[0mkwargs\u001b[0m\u001b[1;33m,\u001b[0m \u001b[0minput_masks\u001b[0m\u001b[1;33m)\u001b[0m\u001b[1;33m:\u001b[0m\u001b[1;33m\u001b[0m\u001b[1;33m\u001b[0m\u001b[0m\n",
      "\u001b[1;32mc:\\users\\parke\\onedrive\\documents\\github\\citrusenv\\lib\\site-packages\\tensorflow\\python\\keras\\engine\\base_layer.py\u001b[0m in \u001b[0;36m_infer_output_signature\u001b[1;34m(self, inputs, args, kwargs, input_masks)\u001b[0m\n\u001b[0;32m    861\u001b[0m           \u001b[1;31m# TODO(kaftan): do we maybe_build here, or have we already done it?\u001b[0m\u001b[1;33m\u001b[0m\u001b[1;33m\u001b[0m\u001b[1;33m\u001b[0m\u001b[0m\n\u001b[0;32m    862\u001b[0m           \u001b[0mself\u001b[0m\u001b[1;33m.\u001b[0m\u001b[0m_maybe_build\u001b[0m\u001b[1;33m(\u001b[0m\u001b[0minputs\u001b[0m\u001b[1;33m)\u001b[0m\u001b[1;33m\u001b[0m\u001b[1;33m\u001b[0m\u001b[0m\n\u001b[1;32m--> 863\u001b[1;33m           \u001b[0moutputs\u001b[0m \u001b[1;33m=\u001b[0m \u001b[0mcall_fn\u001b[0m\u001b[1;33m(\u001b[0m\u001b[0minputs\u001b[0m\u001b[1;33m,\u001b[0m \u001b[1;33m*\u001b[0m\u001b[0margs\u001b[0m\u001b[1;33m,\u001b[0m \u001b[1;33m**\u001b[0m\u001b[0mkwargs\u001b[0m\u001b[1;33m)\u001b[0m\u001b[1;33m\u001b[0m\u001b[1;33m\u001b[0m\u001b[0m\n\u001b[0m\u001b[0;32m    864\u001b[0m \u001b[1;33m\u001b[0m\u001b[0m\n\u001b[0;32m    865\u001b[0m         \u001b[0mself\u001b[0m\u001b[1;33m.\u001b[0m\u001b[0m_handle_activity_regularization\u001b[0m\u001b[1;33m(\u001b[0m\u001b[0minputs\u001b[0m\u001b[1;33m,\u001b[0m \u001b[0moutputs\u001b[0m\u001b[1;33m)\u001b[0m\u001b[1;33m\u001b[0m\u001b[1;33m\u001b[0m\u001b[0m\n",
      "\u001b[1;32mc:\\users\\parke\\onedrive\\documents\\github\\citrusenv\\lib\\site-packages\\tensorflow\\python\\keras\\layers\\recurrent_v2.py\u001b[0m in \u001b[0;36mcall\u001b[1;34m(self, inputs, mask, training, initial_state)\u001b[0m\n\u001b[0;32m    437\u001b[0m \u001b[1;33m\u001b[0m\u001b[0m\n\u001b[0;32m    438\u001b[0m     \u001b[1;31m# GRU does not support constants. Ignore it during process.\u001b[0m\u001b[1;33m\u001b[0m\u001b[1;33m\u001b[0m\u001b[1;33m\u001b[0m\u001b[0m\n\u001b[1;32m--> 439\u001b[1;33m     \u001b[0minputs\u001b[0m\u001b[1;33m,\u001b[0m \u001b[0minitial_state\u001b[0m\u001b[1;33m,\u001b[0m \u001b[0m_\u001b[0m \u001b[1;33m=\u001b[0m \u001b[0mself\u001b[0m\u001b[1;33m.\u001b[0m\u001b[0m_process_inputs\u001b[0m\u001b[1;33m(\u001b[0m\u001b[0minputs\u001b[0m\u001b[1;33m,\u001b[0m \u001b[0minitial_state\u001b[0m\u001b[1;33m,\u001b[0m \u001b[1;32mNone\u001b[0m\u001b[1;33m)\u001b[0m\u001b[1;33m\u001b[0m\u001b[1;33m\u001b[0m\u001b[0m\n\u001b[0m\u001b[0;32m    440\u001b[0m \u001b[1;33m\u001b[0m\u001b[0m\n\u001b[0;32m    441\u001b[0m     \u001b[1;32mif\u001b[0m \u001b[0misinstance\u001b[0m\u001b[1;33m(\u001b[0m\u001b[0mmask\u001b[0m\u001b[1;33m,\u001b[0m \u001b[0mlist\u001b[0m\u001b[1;33m)\u001b[0m\u001b[1;33m:\u001b[0m\u001b[1;33m\u001b[0m\u001b[1;33m\u001b[0m\u001b[0m\n",
      "\u001b[1;32mc:\\users\\parke\\onedrive\\documents\\github\\citrusenv\\lib\\site-packages\\tensorflow\\python\\keras\\layers\\recurrent.py\u001b[0m in \u001b[0;36m_process_inputs\u001b[1;34m(self, inputs, initial_state, constants)\u001b[0m\n\u001b[0;32m    857\u001b[0m         \u001b[0minitial_state\u001b[0m \u001b[1;33m=\u001b[0m \u001b[0mself\u001b[0m\u001b[1;33m.\u001b[0m\u001b[0mstates\u001b[0m\u001b[1;33m\u001b[0m\u001b[1;33m\u001b[0m\u001b[0m\n\u001b[0;32m    858\u001b[0m     \u001b[1;32melif\u001b[0m \u001b[0minitial_state\u001b[0m \u001b[1;32mis\u001b[0m \u001b[1;32mNone\u001b[0m\u001b[1;33m:\u001b[0m\u001b[1;33m\u001b[0m\u001b[1;33m\u001b[0m\u001b[0m\n\u001b[1;32m--> 859\u001b[1;33m       \u001b[0minitial_state\u001b[0m \u001b[1;33m=\u001b[0m \u001b[0mself\u001b[0m\u001b[1;33m.\u001b[0m\u001b[0mget_initial_state\u001b[0m\u001b[1;33m(\u001b[0m\u001b[0minputs\u001b[0m\u001b[1;33m)\u001b[0m\u001b[1;33m\u001b[0m\u001b[1;33m\u001b[0m\u001b[0m\n\u001b[0m\u001b[0;32m    860\u001b[0m \u001b[1;33m\u001b[0m\u001b[0m\n\u001b[0;32m    861\u001b[0m     \u001b[1;32mif\u001b[0m \u001b[0mlen\u001b[0m\u001b[1;33m(\u001b[0m\u001b[0minitial_state\u001b[0m\u001b[1;33m)\u001b[0m \u001b[1;33m!=\u001b[0m \u001b[0mlen\u001b[0m\u001b[1;33m(\u001b[0m\u001b[0mself\u001b[0m\u001b[1;33m.\u001b[0m\u001b[0mstates\u001b[0m\u001b[1;33m)\u001b[0m\u001b[1;33m:\u001b[0m\u001b[1;33m\u001b[0m\u001b[1;33m\u001b[0m\u001b[0m\n",
      "\u001b[1;32mc:\\users\\parke\\onedrive\\documents\\github\\citrusenv\\lib\\site-packages\\tensorflow\\python\\keras\\layers\\recurrent.py\u001b[0m in \u001b[0;36mget_initial_state\u001b[1;34m(self, inputs)\u001b[0m\n\u001b[0;32m    640\u001b[0m     \u001b[0mdtype\u001b[0m \u001b[1;33m=\u001b[0m \u001b[0minputs\u001b[0m\u001b[1;33m.\u001b[0m\u001b[0mdtype\u001b[0m\u001b[1;33m\u001b[0m\u001b[1;33m\u001b[0m\u001b[0m\n\u001b[0;32m    641\u001b[0m     \u001b[1;32mif\u001b[0m \u001b[0mget_initial_state_fn\u001b[0m\u001b[1;33m:\u001b[0m\u001b[1;33m\u001b[0m\u001b[1;33m\u001b[0m\u001b[0m\n\u001b[1;32m--> 642\u001b[1;33m       init_state = get_initial_state_fn(\n\u001b[0m\u001b[0;32m    643\u001b[0m           inputs=None, batch_size=batch_size, dtype=dtype)\n\u001b[0;32m    644\u001b[0m     \u001b[1;32melse\u001b[0m\u001b[1;33m:\u001b[0m\u001b[1;33m\u001b[0m\u001b[1;33m\u001b[0m\u001b[0m\n",
      "\u001b[1;32mc:\\users\\parke\\onedrive\\documents\\github\\citrusenv\\lib\\site-packages\\tensorflow\\python\\keras\\layers\\recurrent.py\u001b[0m in \u001b[0;36mget_initial_state\u001b[1;34m(self, inputs, batch_size, dtype)\u001b[0m\n\u001b[0;32m   1946\u001b[0m \u001b[1;33m\u001b[0m\u001b[0m\n\u001b[0;32m   1947\u001b[0m   \u001b[1;32mdef\u001b[0m \u001b[0mget_initial_state\u001b[0m\u001b[1;33m(\u001b[0m\u001b[0mself\u001b[0m\u001b[1;33m,\u001b[0m \u001b[0minputs\u001b[0m\u001b[1;33m=\u001b[0m\u001b[1;32mNone\u001b[0m\u001b[1;33m,\u001b[0m \u001b[0mbatch_size\u001b[0m\u001b[1;33m=\u001b[0m\u001b[1;32mNone\u001b[0m\u001b[1;33m,\u001b[0m \u001b[0mdtype\u001b[0m\u001b[1;33m=\u001b[0m\u001b[1;32mNone\u001b[0m\u001b[1;33m)\u001b[0m\u001b[1;33m:\u001b[0m\u001b[1;33m\u001b[0m\u001b[1;33m\u001b[0m\u001b[0m\n\u001b[1;32m-> 1948\u001b[1;33m     \u001b[1;32mreturn\u001b[0m \u001b[0m_generate_zero_filled_state_for_cell\u001b[0m\u001b[1;33m(\u001b[0m\u001b[0mself\u001b[0m\u001b[1;33m,\u001b[0m \u001b[0minputs\u001b[0m\u001b[1;33m,\u001b[0m \u001b[0mbatch_size\u001b[0m\u001b[1;33m,\u001b[0m \u001b[0mdtype\u001b[0m\u001b[1;33m)\u001b[0m\u001b[1;33m\u001b[0m\u001b[1;33m\u001b[0m\u001b[0m\n\u001b[0m\u001b[0;32m   1949\u001b[0m \u001b[1;33m\u001b[0m\u001b[0m\n\u001b[0;32m   1950\u001b[0m \u001b[1;33m\u001b[0m\u001b[0m\n",
      "\u001b[1;32mc:\\users\\parke\\onedrive\\documents\\github\\citrusenv\\lib\\site-packages\\tensorflow\\python\\keras\\layers\\recurrent.py\u001b[0m in \u001b[0;36m_generate_zero_filled_state_for_cell\u001b[1;34m(cell, inputs, batch_size, dtype)\u001b[0m\n\u001b[0;32m   2985\u001b[0m     \u001b[0mbatch_size\u001b[0m \u001b[1;33m=\u001b[0m \u001b[0marray_ops\u001b[0m\u001b[1;33m.\u001b[0m\u001b[0mshape\u001b[0m\u001b[1;33m(\u001b[0m\u001b[0minputs\u001b[0m\u001b[1;33m)\u001b[0m\u001b[1;33m[\u001b[0m\u001b[1;36m0\u001b[0m\u001b[1;33m]\u001b[0m\u001b[1;33m\u001b[0m\u001b[1;33m\u001b[0m\u001b[0m\n\u001b[0;32m   2986\u001b[0m     \u001b[0mdtype\u001b[0m \u001b[1;33m=\u001b[0m \u001b[0minputs\u001b[0m\u001b[1;33m.\u001b[0m\u001b[0mdtype\u001b[0m\u001b[1;33m\u001b[0m\u001b[1;33m\u001b[0m\u001b[0m\n\u001b[1;32m-> 2987\u001b[1;33m   \u001b[1;32mreturn\u001b[0m \u001b[0m_generate_zero_filled_state\u001b[0m\u001b[1;33m(\u001b[0m\u001b[0mbatch_size\u001b[0m\u001b[1;33m,\u001b[0m \u001b[0mcell\u001b[0m\u001b[1;33m.\u001b[0m\u001b[0mstate_size\u001b[0m\u001b[1;33m,\u001b[0m \u001b[0mdtype\u001b[0m\u001b[1;33m)\u001b[0m\u001b[1;33m\u001b[0m\u001b[1;33m\u001b[0m\u001b[0m\n\u001b[0m\u001b[0;32m   2988\u001b[0m \u001b[1;33m\u001b[0m\u001b[0m\n\u001b[0;32m   2989\u001b[0m \u001b[1;33m\u001b[0m\u001b[0m\n",
      "\u001b[1;32mc:\\users\\parke\\onedrive\\documents\\github\\citrusenv\\lib\\site-packages\\tensorflow\\python\\keras\\layers\\recurrent.py\u001b[0m in \u001b[0;36m_generate_zero_filled_state\u001b[1;34m(batch_size_tensor, state_size, dtype)\u001b[0m\n\u001b[0;32m   3003\u001b[0m     \u001b[1;32mreturn\u001b[0m \u001b[0mnest\u001b[0m\u001b[1;33m.\u001b[0m\u001b[0mmap_structure\u001b[0m\u001b[1;33m(\u001b[0m\u001b[0mcreate_zeros\u001b[0m\u001b[1;33m,\u001b[0m \u001b[0mstate_size\u001b[0m\u001b[1;33m)\u001b[0m\u001b[1;33m\u001b[0m\u001b[1;33m\u001b[0m\u001b[0m\n\u001b[0;32m   3004\u001b[0m   \u001b[1;32melse\u001b[0m\u001b[1;33m:\u001b[0m\u001b[1;33m\u001b[0m\u001b[1;33m\u001b[0m\u001b[0m\n\u001b[1;32m-> 3005\u001b[1;33m     \u001b[1;32mreturn\u001b[0m \u001b[0mcreate_zeros\u001b[0m\u001b[1;33m(\u001b[0m\u001b[0mstate_size\u001b[0m\u001b[1;33m)\u001b[0m\u001b[1;33m\u001b[0m\u001b[1;33m\u001b[0m\u001b[0m\n\u001b[0m\u001b[0;32m   3006\u001b[0m \u001b[1;33m\u001b[0m\u001b[0m\n\u001b[0;32m   3007\u001b[0m \u001b[1;33m\u001b[0m\u001b[0m\n",
      "\u001b[1;32mc:\\users\\parke\\onedrive\\documents\\github\\citrusenv\\lib\\site-packages\\tensorflow\\python\\keras\\layers\\recurrent.py\u001b[0m in \u001b[0;36mcreate_zeros\u001b[1;34m(unnested_state_size)\u001b[0m\n\u001b[0;32m   2998\u001b[0m     \u001b[0mflat_dims\u001b[0m \u001b[1;33m=\u001b[0m \u001b[0mtensor_shape\u001b[0m\u001b[1;33m.\u001b[0m\u001b[0mTensorShape\u001b[0m\u001b[1;33m(\u001b[0m\u001b[0munnested_state_size\u001b[0m\u001b[1;33m)\u001b[0m\u001b[1;33m.\u001b[0m\u001b[0mas_list\u001b[0m\u001b[1;33m(\u001b[0m\u001b[1;33m)\u001b[0m\u001b[1;33m\u001b[0m\u001b[1;33m\u001b[0m\u001b[0m\n\u001b[0;32m   2999\u001b[0m     \u001b[0minit_state_size\u001b[0m \u001b[1;33m=\u001b[0m \u001b[1;33m[\u001b[0m\u001b[0mbatch_size_tensor\u001b[0m\u001b[1;33m]\u001b[0m \u001b[1;33m+\u001b[0m \u001b[0mflat_dims\u001b[0m\u001b[1;33m\u001b[0m\u001b[1;33m\u001b[0m\u001b[0m\n\u001b[1;32m-> 3000\u001b[1;33m     \u001b[1;32mreturn\u001b[0m \u001b[0marray_ops\u001b[0m\u001b[1;33m.\u001b[0m\u001b[0mzeros\u001b[0m\u001b[1;33m(\u001b[0m\u001b[0minit_state_size\u001b[0m\u001b[1;33m,\u001b[0m \u001b[0mdtype\u001b[0m\u001b[1;33m=\u001b[0m\u001b[0mdtype\u001b[0m\u001b[1;33m)\u001b[0m\u001b[1;33m\u001b[0m\u001b[1;33m\u001b[0m\u001b[0m\n\u001b[0m\u001b[0;32m   3001\u001b[0m \u001b[1;33m\u001b[0m\u001b[0m\n\u001b[0;32m   3002\u001b[0m   \u001b[1;32mif\u001b[0m \u001b[0mnest\u001b[0m\u001b[1;33m.\u001b[0m\u001b[0mis_nested\u001b[0m\u001b[1;33m(\u001b[0m\u001b[0mstate_size\u001b[0m\u001b[1;33m)\u001b[0m\u001b[1;33m:\u001b[0m\u001b[1;33m\u001b[0m\u001b[1;33m\u001b[0m\u001b[0m\n",
      "\u001b[1;32mc:\\users\\parke\\onedrive\\documents\\github\\citrusenv\\lib\\site-packages\\tensorflow\\python\\util\\dispatch.py\u001b[0m in \u001b[0;36mwrapper\u001b[1;34m(*args, **kwargs)\u001b[0m\n\u001b[0;32m    199\u001b[0m     \u001b[1;34m\"\"\"Call target, and fall back on dispatchers if there is a TypeError.\"\"\"\u001b[0m\u001b[1;33m\u001b[0m\u001b[1;33m\u001b[0m\u001b[0m\n\u001b[0;32m    200\u001b[0m     \u001b[1;32mtry\u001b[0m\u001b[1;33m:\u001b[0m\u001b[1;33m\u001b[0m\u001b[1;33m\u001b[0m\u001b[0m\n\u001b[1;32m--> 201\u001b[1;33m       \u001b[1;32mreturn\u001b[0m \u001b[0mtarget\u001b[0m\u001b[1;33m(\u001b[0m\u001b[1;33m*\u001b[0m\u001b[0margs\u001b[0m\u001b[1;33m,\u001b[0m \u001b[1;33m**\u001b[0m\u001b[0mkwargs\u001b[0m\u001b[1;33m)\u001b[0m\u001b[1;33m\u001b[0m\u001b[1;33m\u001b[0m\u001b[0m\n\u001b[0m\u001b[0;32m    202\u001b[0m     \u001b[1;32mexcept\u001b[0m \u001b[1;33m(\u001b[0m\u001b[0mTypeError\u001b[0m\u001b[1;33m,\u001b[0m \u001b[0mValueError\u001b[0m\u001b[1;33m)\u001b[0m\u001b[1;33m:\u001b[0m\u001b[1;33m\u001b[0m\u001b[1;33m\u001b[0m\u001b[0m\n\u001b[0;32m    203\u001b[0m       \u001b[1;31m# Note: convert_to_eager_tensor currently raises a ValueError, not a\u001b[0m\u001b[1;33m\u001b[0m\u001b[1;33m\u001b[0m\u001b[1;33m\u001b[0m\u001b[0m\n",
      "\u001b[1;32mc:\\users\\parke\\onedrive\\documents\\github\\citrusenv\\lib\\site-packages\\tensorflow\\python\\ops\\array_ops.py\u001b[0m in \u001b[0;36mwrapped\u001b[1;34m(*args, **kwargs)\u001b[0m\n\u001b[0;32m   2817\u001b[0m \u001b[1;33m\u001b[0m\u001b[0m\n\u001b[0;32m   2818\u001b[0m   \u001b[1;32mdef\u001b[0m \u001b[0mwrapped\u001b[0m\u001b[1;33m(\u001b[0m\u001b[1;33m*\u001b[0m\u001b[0margs\u001b[0m\u001b[1;33m,\u001b[0m \u001b[1;33m**\u001b[0m\u001b[0mkwargs\u001b[0m\u001b[1;33m)\u001b[0m\u001b[1;33m:\u001b[0m\u001b[1;33m\u001b[0m\u001b[1;33m\u001b[0m\u001b[0m\n\u001b[1;32m-> 2819\u001b[1;33m     \u001b[0mtensor\u001b[0m \u001b[1;33m=\u001b[0m \u001b[0mfun\u001b[0m\u001b[1;33m(\u001b[0m\u001b[1;33m*\u001b[0m\u001b[0margs\u001b[0m\u001b[1;33m,\u001b[0m \u001b[1;33m**\u001b[0m\u001b[0mkwargs\u001b[0m\u001b[1;33m)\u001b[0m\u001b[1;33m\u001b[0m\u001b[1;33m\u001b[0m\u001b[0m\n\u001b[0m\u001b[0;32m   2820\u001b[0m     \u001b[0mtensor\u001b[0m\u001b[1;33m.\u001b[0m\u001b[0m_is_zeros_tensor\u001b[0m \u001b[1;33m=\u001b[0m \u001b[1;32mTrue\u001b[0m\u001b[1;33m\u001b[0m\u001b[1;33m\u001b[0m\u001b[0m\n\u001b[0;32m   2821\u001b[0m     \u001b[1;32mreturn\u001b[0m \u001b[0mtensor\u001b[0m\u001b[1;33m\u001b[0m\u001b[1;33m\u001b[0m\u001b[0m\n",
      "\u001b[1;32mc:\\users\\parke\\onedrive\\documents\\github\\citrusenv\\lib\\site-packages\\tensorflow\\python\\ops\\array_ops.py\u001b[0m in \u001b[0;36mzeros\u001b[1;34m(shape, dtype, name)\u001b[0m\n\u001b[0;32m   2866\u001b[0m           \u001b[1;31m# Create a constant if it won't be very big. Otherwise create a fill\u001b[0m\u001b[1;33m\u001b[0m\u001b[1;33m\u001b[0m\u001b[1;33m\u001b[0m\u001b[0m\n\u001b[0;32m   2867\u001b[0m           \u001b[1;31m# op to prevent serialized GraphDefs from becoming too large.\u001b[0m\u001b[1;33m\u001b[0m\u001b[1;33m\u001b[0m\u001b[1;33m\u001b[0m\u001b[0m\n\u001b[1;32m-> 2868\u001b[1;33m           \u001b[0moutput\u001b[0m \u001b[1;33m=\u001b[0m \u001b[0m_constant_if_small\u001b[0m\u001b[1;33m(\u001b[0m\u001b[0mzero\u001b[0m\u001b[1;33m,\u001b[0m \u001b[0mshape\u001b[0m\u001b[1;33m,\u001b[0m \u001b[0mdtype\u001b[0m\u001b[1;33m,\u001b[0m \u001b[0mname\u001b[0m\u001b[1;33m)\u001b[0m\u001b[1;33m\u001b[0m\u001b[1;33m\u001b[0m\u001b[0m\n\u001b[0m\u001b[0;32m   2869\u001b[0m           \u001b[1;32mif\u001b[0m \u001b[0moutput\u001b[0m \u001b[1;32mis\u001b[0m \u001b[1;32mnot\u001b[0m \u001b[1;32mNone\u001b[0m\u001b[1;33m:\u001b[0m\u001b[1;33m\u001b[0m\u001b[1;33m\u001b[0m\u001b[0m\n\u001b[0;32m   2870\u001b[0m             \u001b[1;32mreturn\u001b[0m \u001b[0moutput\u001b[0m\u001b[1;33m\u001b[0m\u001b[1;33m\u001b[0m\u001b[0m\n",
      "\u001b[1;32mc:\\users\\parke\\onedrive\\documents\\github\\citrusenv\\lib\\site-packages\\tensorflow\\python\\ops\\array_ops.py\u001b[0m in \u001b[0;36m_constant_if_small\u001b[1;34m(value, shape, dtype, name)\u001b[0m\n\u001b[0;32m   2802\u001b[0m \u001b[1;32mdef\u001b[0m \u001b[0m_constant_if_small\u001b[0m\u001b[1;33m(\u001b[0m\u001b[0mvalue\u001b[0m\u001b[1;33m,\u001b[0m \u001b[0mshape\u001b[0m\u001b[1;33m,\u001b[0m \u001b[0mdtype\u001b[0m\u001b[1;33m,\u001b[0m \u001b[0mname\u001b[0m\u001b[1;33m)\u001b[0m\u001b[1;33m:\u001b[0m\u001b[1;33m\u001b[0m\u001b[1;33m\u001b[0m\u001b[0m\n\u001b[0;32m   2803\u001b[0m   \u001b[1;32mtry\u001b[0m\u001b[1;33m:\u001b[0m\u001b[1;33m\u001b[0m\u001b[1;33m\u001b[0m\u001b[0m\n\u001b[1;32m-> 2804\u001b[1;33m     \u001b[1;32mif\u001b[0m \u001b[0mnp\u001b[0m\u001b[1;33m.\u001b[0m\u001b[0mprod\u001b[0m\u001b[1;33m(\u001b[0m\u001b[0mshape\u001b[0m\u001b[1;33m)\u001b[0m \u001b[1;33m<\u001b[0m \u001b[1;36m1000\u001b[0m\u001b[1;33m:\u001b[0m\u001b[1;33m\u001b[0m\u001b[1;33m\u001b[0m\u001b[0m\n\u001b[0m\u001b[0;32m   2805\u001b[0m       \u001b[1;32mreturn\u001b[0m \u001b[0mconstant\u001b[0m\u001b[1;33m(\u001b[0m\u001b[0mvalue\u001b[0m\u001b[1;33m,\u001b[0m \u001b[0mshape\u001b[0m\u001b[1;33m=\u001b[0m\u001b[0mshape\u001b[0m\u001b[1;33m,\u001b[0m \u001b[0mdtype\u001b[0m\u001b[1;33m=\u001b[0m\u001b[0mdtype\u001b[0m\u001b[1;33m,\u001b[0m \u001b[0mname\u001b[0m\u001b[1;33m=\u001b[0m\u001b[0mname\u001b[0m\u001b[1;33m)\u001b[0m\u001b[1;33m\u001b[0m\u001b[1;33m\u001b[0m\u001b[0m\n\u001b[0;32m   2806\u001b[0m   \u001b[1;32mexcept\u001b[0m \u001b[0mTypeError\u001b[0m\u001b[1;33m:\u001b[0m\u001b[1;33m\u001b[0m\u001b[1;33m\u001b[0m\u001b[0m\n",
      "\u001b[1;32m<__array_function__ internals>\u001b[0m in \u001b[0;36mprod\u001b[1;34m(*args, **kwargs)\u001b[0m\n",
      "\u001b[1;32mc:\\users\\parke\\onedrive\\documents\\github\\citrusenv\\lib\\site-packages\\numpy\\core\\fromnumeric.py\u001b[0m in \u001b[0;36mprod\u001b[1;34m(a, axis, dtype, out, keepdims, initial, where)\u001b[0m\n\u001b[0;32m   3028\u001b[0m         \u001b[0mbut\u001b[0m \u001b[0mthe\u001b[0m \u001b[0mtype\u001b[0m \u001b[0mof\u001b[0m \u001b[0mthe\u001b[0m \u001b[0mresulting\u001b[0m \u001b[0mvalues\u001b[0m \u001b[0mwill\u001b[0m \u001b[0mbe\u001b[0m \u001b[0mcast\u001b[0m \u001b[1;32mif\u001b[0m \u001b[0mnecessary\u001b[0m\u001b[1;33m.\u001b[0m\u001b[1;33m\u001b[0m\u001b[1;33m\u001b[0m\u001b[0m\n\u001b[0;32m   3029\u001b[0m \u001b[1;33m\u001b[0m\u001b[0m\n\u001b[1;32m-> 3030\u001b[1;33m     \u001b[0mReturns\u001b[0m\u001b[1;33m\u001b[0m\u001b[1;33m\u001b[0m\u001b[0m\n\u001b[0m\u001b[0;32m   3031\u001b[0m     \u001b[1;33m-\u001b[0m\u001b[1;33m-\u001b[0m\u001b[1;33m-\u001b[0m\u001b[1;33m-\u001b[0m\u001b[1;33m-\u001b[0m\u001b[1;33m-\u001b[0m\u001b[1;33m-\u001b[0m\u001b[1;33m\u001b[0m\u001b[1;33m\u001b[0m\u001b[0m\n\u001b[0;32m   3032\u001b[0m     \u001b[0mcumprod\u001b[0m \u001b[1;33m:\u001b[0m \u001b[0mndarray\u001b[0m\u001b[1;33m\u001b[0m\u001b[1;33m\u001b[0m\u001b[0m\n",
      "\u001b[1;32mc:\\users\\parke\\onedrive\\documents\\github\\citrusenv\\lib\\site-packages\\numpy\\core\\fromnumeric.py\u001b[0m in \u001b[0;36m_wrapreduction\u001b[1;34m(obj, ufunc, method, axis, dtype, out, **kwargs)\u001b[0m\n\u001b[0;32m     85\u001b[0m                 \u001b[1;32mreturn\u001b[0m \u001b[0mreduction\u001b[0m\u001b[1;33m(\u001b[0m\u001b[0maxis\u001b[0m\u001b[1;33m=\u001b[0m\u001b[0maxis\u001b[0m\u001b[1;33m,\u001b[0m \u001b[0mout\u001b[0m\u001b[1;33m=\u001b[0m\u001b[0mout\u001b[0m\u001b[1;33m,\u001b[0m \u001b[1;33m**\u001b[0m\u001b[0mpasskwargs\u001b[0m\u001b[1;33m)\u001b[0m\u001b[1;33m\u001b[0m\u001b[1;33m\u001b[0m\u001b[0m\n\u001b[0;32m     86\u001b[0m \u001b[1;33m\u001b[0m\u001b[0m\n\u001b[1;32m---> 87\u001b[1;33m     \u001b[1;32mreturn\u001b[0m \u001b[0mufunc\u001b[0m\u001b[1;33m.\u001b[0m\u001b[0mreduce\u001b[0m\u001b[1;33m(\u001b[0m\u001b[0mobj\u001b[0m\u001b[1;33m,\u001b[0m \u001b[0maxis\u001b[0m\u001b[1;33m,\u001b[0m \u001b[0mdtype\u001b[0m\u001b[1;33m,\u001b[0m \u001b[0mout\u001b[0m\u001b[1;33m,\u001b[0m \u001b[1;33m**\u001b[0m\u001b[0mpasskwargs\u001b[0m\u001b[1;33m)\u001b[0m\u001b[1;33m\u001b[0m\u001b[1;33m\u001b[0m\u001b[0m\n\u001b[0m\u001b[0;32m     88\u001b[0m \u001b[1;33m\u001b[0m\u001b[0m\n\u001b[0;32m     89\u001b[0m \u001b[1;33m\u001b[0m\u001b[0m\n",
      "\u001b[1;32mc:\\users\\parke\\onedrive\\documents\\github\\citrusenv\\lib\\site-packages\\tensorflow\\python\\framework\\ops.py\u001b[0m in \u001b[0;36m__array__\u001b[1;34m(self)\u001b[0m\n\u001b[0;32m    850\u001b[0m \u001b[1;33m\u001b[0m\u001b[0m\n\u001b[0;32m    851\u001b[0m   \u001b[1;32mdef\u001b[0m \u001b[0m__array__\u001b[0m\u001b[1;33m(\u001b[0m\u001b[0mself\u001b[0m\u001b[1;33m)\u001b[0m\u001b[1;33m:\u001b[0m\u001b[1;33m\u001b[0m\u001b[1;33m\u001b[0m\u001b[0m\n\u001b[1;32m--> 852\u001b[1;33m     raise NotImplementedError(\n\u001b[0m\u001b[0;32m    853\u001b[0m         \u001b[1;34m\"Cannot convert a symbolic Tensor ({}) to a numpy array.\"\u001b[0m\u001b[1;33m\u001b[0m\u001b[1;33m\u001b[0m\u001b[0m\n\u001b[0;32m    854\u001b[0m         \u001b[1;34m\" This error may indicate that you're trying to pass a Tensor to\"\u001b[0m\u001b[1;33m\u001b[0m\u001b[1;33m\u001b[0m\u001b[0m\n",
      "\u001b[1;31mNotImplementedError\u001b[0m: Cannot convert a symbolic Tensor (gru/strided_slice:0) to a numpy array. This error may indicate that you're trying to pass a Tensor to a NumPy call, which is not supported"
     ]
    }
   ],
   "source": []
  },
  {
   "cell_type": "code",
   "execution_count": 65,
   "id": "4c6f3776",
   "metadata": {},
   "outputs": [
    {
     "name": "stdout",
     "output_type": "stream",
     "text": [
      "Epoch 1/30\n",
      "91/91 - 1s - loss: 0.6264 - accuracy: 0.7974 - val_loss: 0.6564 - val_accuracy: 0.7894\n",
      "Epoch 2/30\n",
      "91/91 - 1s - loss: 0.6234 - accuracy: 0.7975 - val_loss: 0.6568 - val_accuracy: 0.7887\n",
      "Epoch 3/30\n",
      "91/91 - 1s - loss: 0.6239 - accuracy: 0.7977 - val_loss: 0.6564 - val_accuracy: 0.7901\n",
      "Epoch 4/30\n",
      "91/91 - 1s - loss: 0.6208 - accuracy: 0.7978 - val_loss: 0.6569 - val_accuracy: 0.7894\n",
      "Epoch 5/30\n",
      "91/91 - 1s - loss: 0.6190 - accuracy: 0.7995 - val_loss: 0.6582 - val_accuracy: 0.7897\n",
      "Epoch 6/30\n",
      "91/91 - 1s - loss: 0.6211 - accuracy: 0.7977 - val_loss: 0.6588 - val_accuracy: 0.7901\n",
      "Epoch 7/30\n",
      "91/91 - 1s - loss: 0.6215 - accuracy: 0.7976 - val_loss: 0.6599 - val_accuracy: 0.7908\n",
      "Epoch 8/30\n",
      "91/91 - 1s - loss: 0.6182 - accuracy: 0.7985 - val_loss: 0.6624 - val_accuracy: 0.7901\n",
      "Epoch 9/30\n",
      "91/91 - 1s - loss: 0.6200 - accuracy: 0.7974 - val_loss: 0.6595 - val_accuracy: 0.7901\n",
      "Epoch 10/30\n",
      "91/91 - 1s - loss: 0.6170 - accuracy: 0.7987 - val_loss: 0.6637 - val_accuracy: 0.7894\n",
      "Epoch 11/30\n",
      "91/91 - 1s - loss: 0.6160 - accuracy: 0.7980 - val_loss: 0.6618 - val_accuracy: 0.7901\n",
      "Epoch 12/30\n",
      "91/91 - 1s - loss: 0.6168 - accuracy: 0.7975 - val_loss: 0.6659 - val_accuracy: 0.7897\n",
      "Epoch 13/30\n",
      "91/91 - 1s - loss: 0.6135 - accuracy: 0.7978 - val_loss: 0.6649 - val_accuracy: 0.7897\n",
      "Epoch 14/30\n",
      "91/91 - 1s - loss: 0.6131 - accuracy: 0.7987 - val_loss: 0.6667 - val_accuracy: 0.7894\n",
      "Epoch 15/30\n",
      "91/91 - 1s - loss: 0.6167 - accuracy: 0.7977 - val_loss: 0.6680 - val_accuracy: 0.7897\n",
      "Epoch 16/30\n",
      "91/91 - 1s - loss: 0.6138 - accuracy: 0.7977 - val_loss: 0.6704 - val_accuracy: 0.7887\n",
      "Epoch 17/30\n",
      "91/91 - 1s - loss: 0.6123 - accuracy: 0.7984 - val_loss: 0.6692 - val_accuracy: 0.7891\n",
      "Epoch 18/30\n",
      "91/91 - 1s - loss: 0.6098 - accuracy: 0.7975 - val_loss: 0.6696 - val_accuracy: 0.7891\n",
      "Epoch 19/30\n",
      "91/91 - 1s - loss: 0.6121 - accuracy: 0.7985 - val_loss: 0.6780 - val_accuracy: 0.7880\n",
      "Epoch 20/30\n",
      "91/91 - 1s - loss: 0.6136 - accuracy: 0.7984 - val_loss: 0.6738 - val_accuracy: 0.7891\n",
      "Epoch 21/30\n",
      "91/91 - 1s - loss: 0.6034 - accuracy: 0.7992 - val_loss: 0.6728 - val_accuracy: 0.7887\n",
      "Epoch 22/30\n",
      "91/91 - 1s - loss: 0.6072 - accuracy: 0.7984 - val_loss: 0.6795 - val_accuracy: 0.7891\n",
      "Epoch 23/30\n",
      "91/91 - 1s - loss: 0.6050 - accuracy: 0.7999 - val_loss: 0.6768 - val_accuracy: 0.7877\n",
      "Epoch 24/30\n",
      "91/91 - 1s - loss: 0.6059 - accuracy: 0.7983 - val_loss: 0.6778 - val_accuracy: 0.7891\n",
      "Epoch 25/30\n",
      "91/91 - 1s - loss: 0.6030 - accuracy: 0.7988 - val_loss: 0.6804 - val_accuracy: 0.7884\n",
      "Epoch 26/30\n",
      "91/91 - 1s - loss: 0.6032 - accuracy: 0.7991 - val_loss: 0.6812 - val_accuracy: 0.7887\n",
      "Epoch 27/30\n",
      "91/91 - 1s - loss: 0.6039 - accuracy: 0.7994 - val_loss: 0.6800 - val_accuracy: 0.7904\n",
      "Epoch 28/30\n",
      "91/91 - 1s - loss: 0.6052 - accuracy: 0.7977 - val_loss: 0.6830 - val_accuracy: 0.7891\n",
      "Epoch 29/30\n",
      "91/91 - 1s - loss: 0.6021 - accuracy: 0.7985 - val_loss: 0.6830 - val_accuracy: 0.7887\n",
      "Epoch 30/30\n",
      "91/91 - 1s - loss: 0.6007 - accuracy: 0.7996 - val_loss: 0.6834 - val_accuracy: 0.7904\n"
     ]
    }
   ],
   "source": [
    "num_epochs =30\n",
    "batch_size = 128\n",
    "\n",
    "from sklearn.utils import class_weight\n",
    "class_weight = class_weight.compute_class_weight('balanced' ,np.unique(y_train_labels) ,y_train_labels)\n",
    "weight = {i : class_weight[i] for i in range(5)}\n",
    "\n",
    "history = model.fit(x_train, y_train,\n",
    "                    batch_size=batch_size,\n",
    "                    epochs=num_epochs,\n",
    "                    verbose=2,\n",
    "                    validation_split=0.2)"
   ]
  },
  {
   "cell_type": "code",
   "execution_count": 66,
   "id": "7f7c1920",
   "metadata": {},
   "outputs": [
    {
     "name": "stdout",
     "output_type": "stream",
     "text": [
      "(3632, 5) (3632, 5)\n"
     ]
    },
    {
     "data": {
      "text/plain": [
       "<AxesSubplot:>"
      ]
     },
     "execution_count": 66,
     "metadata": {},
     "output_type": "execute_result"
    },
    {
     "data": {
      "image/png": "[encoded data removed]",
      "text/plain": [
       "<Figure size 720x504 with 2 Axes>"
      ]
     },
     "metadata": {
      "needs_background": "light"
     },
     "output_type": "display_data"
    }
   ],
   "source": [
    "y_pred = model.predict(x_test);\n",
    "print(y_pred.shape, y_test.shape)\n",
    "cnf_matrix = confusion_matrix(np.argmax(y_test, axis=1), np.argmax(y_pred, axis=1))\n",
    "plt.figure(figsize = (10,7))\n",
    "sn.heatmap(cnf_matrix, annot=True)"
   ]
  },
  {
   "cell_type": "code",
   "execution_count": 53,
   "id": "a67d0c07",
   "metadata": {},
   "outputs": [
    {
     "data": {
      "text/plain": [
       "array([0, 1, 2, 3, 4], dtype=int64)"
      ]
     },
     "execution_count": 53,
     "metadata": {},
     "output_type": "execute_result"
    }
   ],
   "source": [
    "y_test_labels = np.argmax(y_test, axis =1)\n",
    "y_train_labels = np.argmax(y_train, axis =1)\n",
    "y_test_labels\n",
    "np.unique(y_train_labels)"
   ]
  },
  {
   "cell_type": "code",
   "execution_count": 57,
   "id": "b55663b5",
   "metadata": {},
   "outputs": [
    {
     "name": "stdout",
     "output_type": "stream",
     "text": [
      "(25985, 10) (25985, 5)\n"
     ]
    },
    {
     "name": "stderr",
     "output_type": "stream",
     "text": [
      "c:\\users\\parke\\onedrive\\documents\\github\\citrusenv\\lib\\site-packages\\sklearn\\utils\\validation.py:70: FutureWarning: Pass classes=[0 1 2 3 4], y=[4 4 4 ... 4 4 4] as keyword args. From version 1.0 (renaming of 0.25) passing these as positional arguments will result in an error\n",
      "  warnings.warn(f\"Pass {args_msg} as keyword args. From version \"\n",
      "c:\\users\\parke\\onedrive\\documents\\github\\citrusenv\\lib\\site-packages\\sklearn\\utils\\validation.py:70: FutureWarning: Pass classes=[0 1 2 3 4] as keyword args. From version 1.0 (renaming of 0.25) passing these as positional arguments will result in an error\n",
      "  warnings.warn(f\"Pass {args_msg} as keyword args. From version \"\n"
     ]
    }
   ],
   "source": [
    "#Let us try some sampling technique to remove class imbalance\n",
    "from imblearn.over_sampling import SMOTE\n",
    "#Over-sampling: SMOTE\n",
    "#SMOTE (Synthetic Minority Oversampling TEchnique) consists of synthesizing elements for the minority class, \n",
    "#based on those that already exist. It works randomly picking a point from the minority class and computing \n",
    "#the k-nearest neighbors for this point.The synthetic points are added between the chosen point and its neighbors.\n",
    "#We'll use ratio='minority' to resample the minority class.\n",
    "smote = SMOTE('minority')\n",
    "from sklearn.utils import class_weight\n",
    "class_weight = class_weight.compute_class_weight('balanced' ,np.unique(y_train_labels) ,y_train_labels)\n",
    "weight = {i : class_weight[i] for i in range(5)}\n",
    "X_sm, y_sm = smote.fit_resample(x_train, y_train)\n",
    "print(X_sm.shape, y_sm.shape)"
   ]
  },
  {
   "cell_type": "code",
   "execution_count": 67,
   "id": "a58e9dfb",
   "metadata": {},
   "outputs": [
    {
     "name": "stdout",
     "output_type": "stream",
     "text": [
      "Epoch 1/100\n",
      "163/163 - 1s - loss: 1.4484 - accuracy: 0.4809 - val_loss: 0.0034 - val_accuracy: 1.0000\n",
      "Epoch 2/100\n",
      "163/163 - 5s - loss: 1.0269 - accuracy: 0.4817 - val_loss: 0.0039 - val_accuracy: 1.0000\n",
      "Epoch 3/100\n",
      "163/163 - 1s - loss: 0.9494 - accuracy: 0.4975 - val_loss: 0.0036 - val_accuracy: 1.0000\n",
      "Epoch 4/100\n",
      "163/163 - 1s - loss: 0.9249 - accuracy: 0.4996 - val_loss: 0.0020 - val_accuracy: 1.0000\n",
      "Epoch 5/100\n",
      "163/163 - 1s - loss: 0.8908 - accuracy: 0.4961 - val_loss: 0.0047 - val_accuracy: 1.0000\n",
      "Epoch 6/100\n",
      "163/163 - 1s - loss: 0.8760 - accuracy: 0.5082 - val_loss: 0.0028 - val_accuracy: 1.0000\n",
      "Epoch 7/100\n",
      "163/163 - 1s - loss: 0.8789 - accuracy: 0.5043 - val_loss: 0.0037 - val_accuracy: 1.0000\n",
      "Epoch 8/100\n",
      "163/163 - 1s - loss: 0.8716 - accuracy: 0.5042 - val_loss: 8.8080e-04 - val_accuracy: 1.0000\n",
      "Epoch 9/100\n",
      "163/163 - 1s - loss: 0.8364 - accuracy: 0.5087 - val_loss: 0.0020 - val_accuracy: 1.0000\n",
      "Epoch 10/100\n",
      "163/163 - 1s - loss: 0.8604 - accuracy: 0.5029 - val_loss: 0.0024 - val_accuracy: 1.0000\n",
      "Epoch 11/100\n",
      "163/163 - 1s - loss: 0.8110 - accuracy: 0.5130 - val_loss: 0.0017 - val_accuracy: 1.0000\n",
      "Epoch 12/100\n",
      "163/163 - 1s - loss: 0.8208 - accuracy: 0.5101 - val_loss: 0.0021 - val_accuracy: 1.0000\n",
      "Epoch 13/100\n",
      "163/163 - 1s - loss: 0.8238 - accuracy: 0.5146 - val_loss: 0.0025 - val_accuracy: 1.0000\n",
      "Epoch 14/100\n",
      "163/163 - 1s - loss: 0.8092 - accuracy: 0.5167 - val_loss: 0.0012 - val_accuracy: 1.0000\n",
      "Epoch 15/100\n",
      "163/163 - 1s - loss: 0.8091 - accuracy: 0.5138 - val_loss: 0.0017 - val_accuracy: 1.0000\n",
      "Epoch 16/100\n",
      "163/163 - 1s - loss: 0.8204 - accuracy: 0.5042 - val_loss: 8.7676e-04 - val_accuracy: 1.0000\n",
      "Epoch 17/100\n",
      "163/163 - 1s - loss: 0.7817 - accuracy: 0.5075 - val_loss: 0.0018 - val_accuracy: 1.0000\n",
      "Epoch 18/100\n",
      "163/163 - 1s - loss: 0.7849 - accuracy: 0.5151 - val_loss: 0.0014 - val_accuracy: 1.0000\n",
      "Epoch 19/100\n",
      "163/163 - 1s - loss: 0.7825 - accuracy: 0.5168 - val_loss: 0.0015 - val_accuracy: 1.0000\n",
      "Epoch 20/100\n",
      "163/163 - 1s - loss: 0.8031 - accuracy: 0.5133 - val_loss: 0.0020 - val_accuracy: 1.0000\n",
      "Epoch 21/100\n",
      "163/163 - 1s - loss: 0.7970 - accuracy: 0.5144 - val_loss: 0.0013 - val_accuracy: 1.0000\n",
      "Epoch 22/100\n",
      "163/163 - 1s - loss: 0.7630 - accuracy: 0.5217 - val_loss: 0.0020 - val_accuracy: 1.0000\n",
      "Epoch 23/100\n",
      "163/163 - 1s - loss: 0.7597 - accuracy: 0.5129 - val_loss: 0.0016 - val_accuracy: 1.0000\n",
      "Epoch 24/100\n",
      "163/163 - 1s - loss: 0.7628 - accuracy: 0.5170 - val_loss: 0.0019 - val_accuracy: 1.0000\n",
      "Epoch 25/100\n",
      "163/163 - 1s - loss: 0.7808 - accuracy: 0.5148 - val_loss: 0.0018 - val_accuracy: 1.0000\n",
      "Epoch 26/100\n",
      "163/163 - 1s - loss: 0.7754 - accuracy: 0.5157 - val_loss: 0.0014 - val_accuracy: 1.0000\n",
      "Epoch 27/100\n",
      "163/163 - 1s - loss: 0.7656 - accuracy: 0.5209 - val_loss: 0.0010 - val_accuracy: 1.0000\n",
      "Epoch 28/100\n",
      "163/163 - 1s - loss: 0.7428 - accuracy: 0.5237 - val_loss: 0.0021 - val_accuracy: 1.0000\n",
      "Epoch 29/100\n",
      "163/163 - 1s - loss: 0.7354 - accuracy: 0.5301 - val_loss: 0.0013 - val_accuracy: 1.0000\n",
      "Epoch 30/100\n",
      "163/163 - 1s - loss: 0.7566 - accuracy: 0.5248 - val_loss: 0.0014 - val_accuracy: 1.0000\n",
      "Epoch 31/100\n",
      "163/163 - 1s - loss: 0.7416 - accuracy: 0.5215 - val_loss: 0.0017 - val_accuracy: 1.0000\n",
      "Epoch 32/100\n",
      "163/163 - 1s - loss: 0.7313 - accuracy: 0.5278 - val_loss: 0.0025 - val_accuracy: 1.0000\n",
      "Epoch 33/100\n",
      "163/163 - 1s - loss: 0.7672 - accuracy: 0.5197 - val_loss: 0.0013 - val_accuracy: 1.0000\n",
      "Epoch 34/100\n",
      "163/163 - 1s - loss: 0.7409 - accuracy: 0.5306 - val_loss: 0.0023 - val_accuracy: 1.0000\n",
      "Epoch 35/100\n",
      "163/163 - 1s - loss: 0.7338 - accuracy: 0.5222 - val_loss: 0.0014 - val_accuracy: 1.0000\n",
      "Epoch 36/100\n",
      "163/163 - 1s - loss: 0.7318 - accuracy: 0.5240 - val_loss: 9.8819e-04 - val_accuracy: 1.0000\n",
      "Epoch 37/100\n",
      "163/163 - 1s - loss: 0.7369 - accuracy: 0.5225 - val_loss: 9.3163e-04 - val_accuracy: 1.0000\n",
      "Epoch 38/100\n",
      "163/163 - 1s - loss: 0.7210 - accuracy: 0.5308 - val_loss: 0.0013 - val_accuracy: 1.0000\n",
      "Epoch 39/100\n",
      "163/163 - 1s - loss: 0.7080 - accuracy: 0.5255 - val_loss: 8.7795e-04 - val_accuracy: 1.0000\n",
      "Epoch 40/100\n",
      "163/163 - 1s - loss: 0.7012 - accuracy: 0.5307 - val_loss: 0.0012 - val_accuracy: 1.0000\n",
      "Epoch 41/100\n",
      "163/163 - 1s - loss: 0.7048 - accuracy: 0.5301 - val_loss: 0.0011 - val_accuracy: 1.0000\n",
      "Epoch 42/100\n",
      "163/163 - 1s - loss: 0.6997 - accuracy: 0.5323 - val_loss: 0.0011 - val_accuracy: 1.0000\n",
      "Epoch 43/100\n",
      "163/163 - 1s - loss: 0.7143 - accuracy: 0.5334 - val_loss: 0.0011 - val_accuracy: 1.0000\n",
      "Epoch 44/100\n",
      "163/163 - 1s - loss: 0.7248 - accuracy: 0.5222 - val_loss: 0.0014 - val_accuracy: 1.0000\n",
      "Epoch 45/100\n",
      "163/163 - 1s - loss: 0.7062 - accuracy: 0.5263 - val_loss: 0.0021 - val_accuracy: 1.0000\n",
      "Epoch 46/100\n",
      "163/163 - 1s - loss: 0.7274 - accuracy: 0.5301 - val_loss: 0.0017 - val_accuracy: 1.0000\n",
      "Epoch 47/100\n",
      "163/163 - 1s - loss: 0.6989 - accuracy: 0.5332 - val_loss: 8.0071e-04 - val_accuracy: 1.0000\n",
      "Epoch 48/100\n",
      "163/163 - 1s - loss: 0.6949 - accuracy: 0.5364 - val_loss: 0.0013 - val_accuracy: 1.0000\n",
      "Epoch 49/100\n",
      "163/163 - 1s - loss: 0.6957 - accuracy: 0.5406 - val_loss: 7.6242e-04 - val_accuracy: 1.0000\n",
      "Epoch 50/100\n",
      "163/163 - 1s - loss: 0.6829 - accuracy: 0.5361 - val_loss: 9.6109e-04 - val_accuracy: 1.0000\n",
      "Epoch 51/100\n",
      "163/163 - 1s - loss: 0.6959 - accuracy: 0.5327 - val_loss: 5.8723e-04 - val_accuracy: 1.0000\n",
      "Epoch 52/100\n",
      "163/163 - 1s - loss: 0.6810 - accuracy: 0.5306 - val_loss: 0.0011 - val_accuracy: 1.0000\n",
      "Epoch 53/100\n",
      "163/163 - 1s - loss: 0.6809 - accuracy: 0.5391 - val_loss: 0.0012 - val_accuracy: 1.0000\n",
      "Epoch 54/100\n",
      "163/163 - 1s - loss: 0.6870 - accuracy: 0.5389 - val_loss: 0.0012 - val_accuracy: 1.0000\n",
      "Epoch 55/100\n",
      "163/163 - 1s - loss: 0.6710 - accuracy: 0.5342 - val_loss: 0.0015 - val_accuracy: 1.0000\n",
      "Epoch 56/100\n",
      "163/163 - 1s - loss: 0.6802 - accuracy: 0.5354 - val_loss: 0.0017 - val_accuracy: 1.0000\n",
      "Epoch 57/100\n",
      "163/163 - 1s - loss: 0.6827 - accuracy: 0.5291 - val_loss: 9.2050e-04 - val_accuracy: 1.0000\n",
      "Epoch 58/100\n",
      "163/163 - 1s - loss: 0.6946 - accuracy: 0.5306 - val_loss: 0.0010 - val_accuracy: 1.0000\n",
      "Epoch 59/100\n",
      "163/163 - 1s - loss: 0.6948 - accuracy: 0.5306 - val_loss: 8.2279e-04 - val_accuracy: 1.0000\n",
      "Epoch 60/100\n",
      "163/163 - 1s - loss: 0.6503 - accuracy: 0.5440 - val_loss: 0.0011 - val_accuracy: 1.0000\n",
      "Epoch 61/100\n",
      "163/163 - 1s - loss: 0.6851 - accuracy: 0.5396 - val_loss: 0.0012 - val_accuracy: 1.0000\n",
      "Epoch 62/100\n",
      "163/163 - 1s - loss: 0.6745 - accuracy: 0.5414 - val_loss: 9.7672e-04 - val_accuracy: 1.0000\n",
      "Epoch 63/100\n",
      "163/163 - 1s - loss: 0.6412 - accuracy: 0.5424 - val_loss: 7.3519e-04 - val_accuracy: 1.0000\n",
      "Epoch 64/100\n",
      "163/163 - 1s - loss: 0.6534 - accuracy: 0.5460 - val_loss: 0.0010 - val_accuracy: 1.0000\n",
      "Epoch 65/100\n",
      "163/163 - 1s - loss: 0.6557 - accuracy: 0.5439 - val_loss: 0.0012 - val_accuracy: 1.0000\n",
      "Epoch 66/100\n",
      "163/163 - 1s - loss: 0.6566 - accuracy: 0.5434 - val_loss: 7.9909e-04 - val_accuracy: 1.0000\n",
      "Epoch 67/100\n",
      "163/163 - 1s - loss: 0.6530 - accuracy: 0.5402 - val_loss: 3.5871e-04 - val_accuracy: 1.0000\n",
      "Epoch 68/100\n",
      "163/163 - 1s - loss: 0.6467 - accuracy: 0.5379 - val_loss: 5.0353e-04 - val_accuracy: 1.0000\n",
      "Epoch 69/100\n",
      "163/163 - 1s - loss: 0.6440 - accuracy: 0.5431 - val_loss: 8.0198e-04 - val_accuracy: 1.0000\n",
      "Epoch 70/100\n",
      "163/163 - 1s - loss: 0.6490 - accuracy: 0.5474 - val_loss: 0.0021 - val_accuracy: 1.0000\n",
      "Epoch 71/100\n",
      "163/163 - 1s - loss: 0.6467 - accuracy: 0.5489 - val_loss: 0.0011 - val_accuracy: 1.0000\n",
      "Epoch 72/100\n",
      "163/163 - 1s - loss: 0.6491 - accuracy: 0.5482 - val_loss: 7.7719e-04 - val_accuracy: 1.0000\n",
      "Epoch 73/100\n",
      "163/163 - 1s - loss: 0.6489 - accuracy: 0.5437 - val_loss: 5.7963e-04 - val_accuracy: 1.0000\n",
      "Epoch 74/100\n",
      "163/163 - 1s - loss: 0.6650 - accuracy: 0.5541 - val_loss: 0.0020 - val_accuracy: 1.0000\n",
      "Epoch 75/100\n",
      "163/163 - 1s - loss: 0.6285 - accuracy: 0.5477 - val_loss: 8.3341e-04 - val_accuracy: 1.0000\n",
      "Epoch 76/100\n",
      "163/163 - 1s - loss: 0.6232 - accuracy: 0.5461 - val_loss: 7.1113e-04 - val_accuracy: 1.0000\n",
      "Epoch 77/100\n",
      "163/163 - 1s - loss: 0.6451 - accuracy: 0.5444 - val_loss: 6.2769e-04 - val_accuracy: 1.0000\n",
      "Epoch 78/100\n",
      "163/163 - 1s - loss: 0.6664 - accuracy: 0.5456 - val_loss: 4.6759e-04 - val_accuracy: 1.0000\n",
      "Epoch 79/100\n",
      "163/163 - 1s - loss: 0.6348 - accuracy: 0.5448 - val_loss: 0.0015 - val_accuracy: 1.0000\n",
      "Epoch 80/100\n",
      "163/163 - 1s - loss: 0.6399 - accuracy: 0.5480 - val_loss: 6.1158e-04 - val_accuracy: 1.0000\n"
     ]
    },
    {
     "name": "stdout",
     "output_type": "stream",
     "text": [
      "Epoch 81/100\n",
      "163/163 - 1s - loss: 0.6311 - accuracy: 0.5503 - val_loss: 8.7436e-04 - val_accuracy: 1.0000\n",
      "Epoch 82/100\n",
      "163/163 - 1s - loss: 0.6374 - accuracy: 0.5445 - val_loss: 0.0022 - val_accuracy: 1.0000\n",
      "Epoch 83/100\n",
      "163/163 - 1s - loss: 0.6448 - accuracy: 0.5436 - val_loss: 0.0011 - val_accuracy: 1.0000\n",
      "Epoch 84/100\n",
      "163/163 - 1s - loss: 0.6426 - accuracy: 0.5512 - val_loss: 7.6358e-04 - val_accuracy: 1.0000\n",
      "Epoch 85/100\n",
      "163/163 - 1s - loss: 0.6192 - accuracy: 0.5508 - val_loss: 4.0260e-04 - val_accuracy: 1.0000\n",
      "Epoch 86/100\n",
      "163/163 - 1s - loss: 0.6308 - accuracy: 0.5516 - val_loss: 9.5674e-04 - val_accuracy: 1.0000\n",
      "Epoch 87/100\n",
      "163/163 - 1s - loss: 0.6321 - accuracy: 0.5584 - val_loss: 0.0014 - val_accuracy: 1.0000\n",
      "Epoch 88/100\n",
      "163/163 - 1s - loss: 0.6302 - accuracy: 0.5490 - val_loss: 8.0358e-04 - val_accuracy: 1.0000\n",
      "Epoch 89/100\n",
      "163/163 - 1s - loss: 0.6201 - accuracy: 0.5514 - val_loss: 5.5356e-04 - val_accuracy: 1.0000\n",
      "Epoch 90/100\n",
      "163/163 - 1s - loss: 0.6157 - accuracy: 0.5503 - val_loss: 0.0011 - val_accuracy: 1.0000\n",
      "Epoch 91/100\n",
      "163/163 - 1s - loss: 0.6219 - accuracy: 0.5509 - val_loss: 8.5176e-04 - val_accuracy: 1.0000\n",
      "Epoch 92/100\n",
      "163/163 - 1s - loss: 0.6097 - accuracy: 0.5571 - val_loss: 8.8639e-04 - val_accuracy: 1.0000\n",
      "Epoch 93/100\n",
      "163/163 - 1s - loss: 0.6034 - accuracy: 0.5504 - val_loss: 5.3501e-04 - val_accuracy: 1.0000\n",
      "Epoch 94/100\n",
      "163/163 - 1s - loss: 0.6209 - accuracy: 0.5528 - val_loss: 7.6897e-04 - val_accuracy: 1.0000\n",
      "Epoch 95/100\n",
      "163/163 - 1s - loss: 0.6040 - accuracy: 0.5574 - val_loss: 0.0011 - val_accuracy: 1.0000\n",
      "Epoch 96/100\n",
      "163/163 - 1s - loss: 0.6269 - accuracy: 0.5488 - val_loss: 7.0934e-04 - val_accuracy: 1.0000\n",
      "Epoch 97/100\n",
      "163/163 - 1s - loss: 0.6273 - accuracy: 0.5562 - val_loss: 0.0011 - val_accuracy: 1.0000\n",
      "Epoch 98/100\n",
      "163/163 - 1s - loss: 0.5978 - accuracy: 0.5563 - val_loss: 6.5996e-04 - val_accuracy: 1.0000\n",
      "Epoch 99/100\n",
      "163/163 - 1s - loss: 0.6245 - accuracy: 0.5649 - val_loss: 4.2126e-04 - val_accuracy: 1.0000\n",
      "Epoch 100/100\n",
      "163/163 - 1s - loss: 0.6169 - accuracy: 0.5606 - val_loss: 0.0011 - val_accuracy: 1.0000\n"
     ]
    }
   ],
   "source": [
    "\n",
    "history = model.fit(X_sm, y_sm,\n",
    "                    batch_size=batch_size,\n",
    "                    epochs=100,\n",
    "                    verbose=2,\n",
    "                    class_weight=weight,\n",
    "                    validation_split=0.2)\n"
   ]
  },
  {
   "cell_type": "code",
   "execution_count": 68,
   "id": "7d0f0aa7",
   "metadata": {},
   "outputs": [
    {
     "name": "stdout",
     "output_type": "stream",
     "text": [
      "(3632, 5) (3632, 5)\n"
     ]
    },
    {
     "data": {
      "text/plain": [
       "<AxesSubplot:>"
      ]
     },
     "execution_count": 68,
     "metadata": {},
     "output_type": "execute_result"
    },
    {
     "data": {
      "image/png": "[encoded data removed]",
      "text/plain": [
       "<Figure size 720x504 with 2 Axes>"
      ]
     },
     "metadata": {
      "needs_background": "light"
     },
     "output_type": "display_data"
    }
   ],
   "source": [
    "y_pred = model.predict(x_test);\n",
    "print(y_pred.shape, y_test.shape)\n",
    "cnf_matrix = confusion_matrix(np.argmax(y_test, axis=1), np.argmax(y_pred, axis=1))\n",
    "plt.figure(figsize = (10,7))\n",
    "sn.heatmap(cnf_matrix, annot=True)\n"
   ]
  }
 ],
 "metadata": {
  "kernelspec": {
   "display_name": "Python 3",
   "language": "python",
   "name": "python3"
  },
  "language_info": {
   "codemirror_mode": {
    "name": "ipython",
    "version": 3
   },
   "file_extension": ".py",
   "mimetype": "text/x-python",
   "name": "python",
   "nbconvert_exporter": "python",
   "pygments_lexer": "ipython3",
   "version": "3.8.1"
  }
 },
 "nbformat": 4,
 "nbformat_minor": 5
}
